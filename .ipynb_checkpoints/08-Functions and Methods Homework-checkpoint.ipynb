{
 "cells": [
  {
   "cell_type": "markdown",
   "id": "337d4a73",
   "metadata": {},
   "source": [
    "Write a function that computes the volume of a sphere given its radius.\n",
    "\n",
    "The volume of a sphere is given as\n",
    "4/3π𝑟3"
   ]
  },
  {
   "cell_type": "code",
   "execution_count": 1,
   "id": "41bf296b",
   "metadata": {},
   "outputs": [],
   "source": [
    "def vol(rad):\n",
    "    return (4/3)*(3.14)*(rad**3)"
   ]
  },
  {
   "cell_type": "code",
   "execution_count": 2,
   "id": "617ac65f",
   "metadata": {},
   "outputs": [
    {
     "data": {
      "text/plain": [
       "33.49333333333333"
      ]
     },
     "execution_count": 2,
     "metadata": {},
     "output_type": "execute_result"
    }
   ],
   "source": [
    "vol(2)"
   ]
  },
  {
   "cell_type": "markdown",
   "id": "9af7f062",
   "metadata": {},
   "source": [
    "Write a function that checks whether a number is in a given range (inclusive of high and low)"
   ]
  },
  {
   "cell_type": "code",
   "execution_count": 14,
   "id": "e712470e",
   "metadata": {},
   "outputs": [],
   "source": [
    "def check_num(num,low,high):\n",
    "    for num in range(low,high):\n",
    "        return f\"number {5} is between {low} and {high}\""
   ]
  },
  {
   "cell_type": "code",
   "execution_count": 15,
   "id": "26d343f8",
   "metadata": {},
   "outputs": [
    {
     "data": {
      "text/plain": [
       "'number 5 is between 2 and 7'"
      ]
     },
     "execution_count": 15,
     "metadata": {},
     "output_type": "execute_result"
    }
   ],
   "source": [
    "check_num(5,2,7)"
   ]
  },
  {
   "cell_type": "markdown",
   "id": "440d0bbc",
   "metadata": {},
   "source": [
    "If you only wanted to return a boolean:"
   ]
  },
  {
   "cell_type": "code",
   "execution_count": 17,
   "id": "43f88e6b",
   "metadata": {},
   "outputs": [],
   "source": [
    "def check_num_in_range(num, low,high):\n",
    "    return num in range(low,high)"
   ]
  },
  {
   "cell_type": "code",
   "execution_count": 18,
   "id": "821c7b82",
   "metadata": {},
   "outputs": [
    {
     "data": {
      "text/plain": [
       "True"
      ]
     },
     "execution_count": 18,
     "metadata": {},
     "output_type": "execute_result"
    }
   ],
   "source": [
    "check_num_in_range(5,3,10)"
   ]
  },
  {
   "cell_type": "markdown",
   "id": "ecba0149",
   "metadata": {},
   "source": [
    "Write a Python function that accepts a string and calculates the number of upper case letters and lower case letters.\n",
    "\n",
    "Sample String : 'Hello Mr. Rogers, how are you this fine Tuesday?'\n",
    "Expected Output : \n",
    "No. of Upper case characters : 4\n",
    "No. of Lower case Characters : 33\n",
    "HINT: Two string methods that might prove useful: .isupper() and .islower()\n",
    "\n",
    "If you feel ambitious, explore the Collections module to solve this problem!"
   ]
  },
  {
   "cell_type": "code",
   "execution_count": 19,
   "id": "55ae10cf",
   "metadata": {},
   "outputs": [],
   "source": [
    "def let_calc(words):\n",
    "    \n",
    "    d = {'upper':0,'lower':0}\n",
    "    \n",
    "    for letter in words:\n",
    "        if letter.isupper():\n",
    "            d['upper'] += 1\n",
    "        elif letter.islower():\n",
    "            d['lower'] += 1\n",
    "        else:\n",
    "            pass\n",
    "    \n",
    "    print(f\"No. of Upper case characters : {d['upper']} \")\n",
    "    print(f\"No. of Lower case characters : {d['lower']} \")"
   ]
  },
  {
   "cell_type": "code",
   "execution_count": 20,
   "id": "02b209b7",
   "metadata": {},
   "outputs": [
    {
     "name": "stdout",
     "output_type": "stream",
     "text": [
      "No. of Upper case characters : 4 \n",
      "No. of Lower case characters : 33 \n"
     ]
    }
   ],
   "source": [
    "let_calc('Hello Mr. Rogers, how are you this fine Tuesday?')"
   ]
  },
  {
   "cell_type": "markdown",
   "id": "21113a1a",
   "metadata": {},
   "source": [
    "Write a Python function that takes a list and returns a new list with unique elements of the first list.\n",
    "\n",
    "Sample List : [1,1,1,1,2,2,3,3,3,3,4,5]\n",
    "Unique List : [1, 2, 3, 4, 5]"
   ]
  },
  {
   "cell_type": "code",
   "execution_count": 21,
   "id": "337f6bff",
   "metadata": {},
   "outputs": [],
   "source": [
    "def unique_list(arr):\n",
    "    return list(set(arr))"
   ]
  },
  {
   "cell_type": "code",
   "execution_count": 22,
   "id": "89820fbd",
   "metadata": {},
   "outputs": [
    {
     "data": {
      "text/plain": [
       "[1, 2, 3, 4, 5]"
      ]
     },
     "execution_count": 22,
     "metadata": {},
     "output_type": "execute_result"
    }
   ],
   "source": [
    "unique_list( [1,1,1,1,2,2,3,3,3,3,4,5])"
   ]
  },
  {
   "cell_type": "markdown",
   "id": "cdd0f813",
   "metadata": {},
   "source": [
    "Write a Python function to multiply all the numbers in a list.\n",
    "\n",
    "Sample List : [1, 2, 3, -4]\n",
    "Expected Output : -24"
   ]
  },
  {
   "cell_type": "code",
   "execution_count": 24,
   "id": "e9d7fbd2",
   "metadata": {},
   "outputs": [],
   "source": [
    "def multiplier(lst):\n",
    "    total = lst[0]\n",
    "    for num in lst:\n",
    "        total *= num\n",
    "    return total"
   ]
  },
  {
   "cell_type": "code",
   "execution_count": 25,
   "id": "4cdf2d93",
   "metadata": {},
   "outputs": [
    {
     "data": {
      "text/plain": [
       "-24"
      ]
     },
     "execution_count": 25,
     "metadata": {},
     "output_type": "execute_result"
    }
   ],
   "source": [
    "multiplier([1, 2, 3, -4])"
   ]
  },
  {
   "cell_type": "markdown",
   "id": "ab3e9d4e",
   "metadata": {},
   "source": [
    "Write a Python function that checks whether a word or phrase is palindrome or not.\n",
    "\n",
    "Note: A palindrome is word, phrase, or sequence that reads the same backward as forward, e.g., madam,kayak,racecar, or a phrase \"nurses run\". Hint: You may want to check out the .replace() method in a string to help out with dealing with spaces. Also google search how to reverse a string in Python, there are some clever ways to do it with slicing notation"
   ]
  },
  {
   "cell_type": "code",
   "execution_count": 30,
   "id": "ccc67b9d",
   "metadata": {},
   "outputs": [],
   "source": [
    "def is_palindrome(word):\n",
    "    return word == word[::-1]"
   ]
  },
  {
   "cell_type": "code",
   "execution_count": 31,
   "id": "f90f9d88",
   "metadata": {},
   "outputs": [
    {
     "data": {
      "text/plain": [
       "True"
      ]
     },
     "execution_count": 31,
     "metadata": {},
     "output_type": "execute_result"
    }
   ],
   "source": [
    "is_palindrome('helleh')"
   ]
  },
  {
   "cell_type": "markdown",
   "id": "c8cfef44",
   "metadata": {},
   "source": [
    "Hard:\n",
    "Write a Python function to check whether a string is pangram or not. (Assume the string passed in does not have any punctuation)\n",
    "\n",
    "Note : Pangrams are words or sentences containing every letter of the alphabet at least once.\n",
    "For example : \"The quick brown fox jumps over the lazy dog\"\n",
    "Hint: You may want to use .replace() method to get rid of spaces.\n",
    "\n",
    "Hint: Look at the string module\n",
    "\n",
    "Hint: In case you want to use set comparisons"
   ]
  },
  {
   "cell_type": "code",
   "execution_count": 34,
   "id": "2759815c",
   "metadata": {},
   "outputs": [],
   "source": [
    "import string\n",
    "\n",
    "def is_pangram(word, alph = string.ascii_lowercase):\n",
    "    return set(alph) <= set(word.lower())"
   ]
  },
  {
   "cell_type": "code",
   "execution_count": 35,
   "id": "5deebf84",
   "metadata": {},
   "outputs": [
    {
     "data": {
      "text/plain": [
       "True"
      ]
     },
     "execution_count": 35,
     "metadata": {},
     "output_type": "execute_result"
    }
   ],
   "source": [
    "is_pangram(\"The quick brown fox jumps over the lazy dog\")"
   ]
  }
 ],
 "metadata": {
  "kernelspec": {
   "display_name": "Python 3 (ipykernel)",
   "language": "python",
   "name": "python3"
  },
  "language_info": {
   "codemirror_mode": {
    "name": "ipython",
    "version": 3
   },
   "file_extension": ".py",
   "mimetype": "text/x-python",
   "name": "python",
   "nbconvert_exporter": "python",
   "pygments_lexer": "ipython3",
   "version": "3.9.12"
  }
 },
 "nbformat": 4,
 "nbformat_minor": 5
}
