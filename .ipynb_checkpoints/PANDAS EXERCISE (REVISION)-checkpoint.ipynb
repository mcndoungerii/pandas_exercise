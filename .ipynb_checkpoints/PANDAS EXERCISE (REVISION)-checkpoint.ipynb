{
 "cells": [
  {
   "cell_type": "markdown",
   "id": "8c4e87ab",
   "metadata": {},
   "source": [
    "PANDAS EXERCISE (REVISION)"
   ]
  },
  {
   "cell_type": "code",
   "execution_count": 2,
   "id": "a47267c7",
   "metadata": {},
   "outputs": [],
   "source": [
    "import pandas as pd"
   ]
  },
  {
   "cell_type": "markdown",
   "id": "99d84922",
   "metadata": {},
   "source": [
    "EXERCISE 1 - List-to-Series Conversion"
   ]
  },
  {
   "cell_type": "code",
   "execution_count": 9,
   "id": "564df321",
   "metadata": {},
   "outputs": [
    {
     "name": "stdout",
     "output_type": "stream",
     "text": [
      "0    2\n",
      "1    4\n",
      "2    5\n",
      "3    6\n",
      "4    9\n",
      "dtype: int64\n"
     ]
    }
   ],
   "source": [
    "given = [2,4,5,6,9]\n",
    "\n",
    "series = pd.Series(given)\n",
    "print(series)"
   ]
  },
  {
   "cell_type": "markdown",
   "id": "bf40a519",
   "metadata": {},
   "source": [
    "EXERCISE 2 - List-to-Series Conversion with Custom Indexing"
   ]
  },
  {
   "cell_type": "code",
   "execution_count": 11,
   "id": "3551a709",
   "metadata": {},
   "outputs": [
    {
     "data": {
      "text/plain": [
       "1    2\n",
       "3    4\n",
       "4    5\n",
       "7    6\n",
       "8    9\n",
       "dtype: int64"
      ]
     },
     "execution_count": 11,
     "metadata": {},
     "output_type": "execute_result"
    }
   ],
   "source": [
    "given = [2,4,5,6,9]\n",
    "\n",
    "series = pd.Series(given, index=[1,3,4,7,8])\n",
    "series"
   ]
  },
  {
   "cell_type": "markdown",
   "id": "259a059c",
   "metadata": {},
   "source": [
    "EXERCISE 3 - Date Series Generation"
   ]
  },
  {
   "cell_type": "code",
   "execution_count": 16,
   "id": "2515d444",
   "metadata": {},
   "outputs": [
    {
     "data": {
      "text/plain": [
       "DatetimeIndex(['2022-01-11', '2022-01-12', '2022-01-13', '2022-01-14',\n",
       "               '2022-01-15', '2022-01-16', '2022-01-17', '2022-01-18',\n",
       "               '2022-01-19', '2022-01-20',\n",
       "               ...\n",
       "               '2022-11-06', '2022-11-07', '2022-11-08', '2022-11-09',\n",
       "               '2022-11-10', '2022-11-11', '2022-11-12', '2022-11-13',\n",
       "               '2022-11-14', '2022-11-15'],\n",
       "              dtype='datetime64[ns]', length=309, freq='D')"
      ]
     },
     "execution_count": 16,
     "metadata": {},
     "output_type": "execute_result"
    }
   ],
   "source": [
    "data_series = pd.date_range(start='01-11-2022',end='15-11-2022')\n",
    "data_series"
   ]
  },
  {
   "cell_type": "markdown",
   "id": "39e98d94",
   "metadata": {},
   "source": [
    "EXERCISE 4 - Implementing a function on each and every element of a series"
   ]
  },
  {
   "cell_type": "code",
   "execution_count": 17,
   "id": "b1364023",
   "metadata": {},
   "outputs": [
    {
     "name": "stdout",
     "output_type": "stream",
     "text": [
      "0     2\n",
      "1     4\n",
      "2     6\n",
      "3     8\n",
      "4    10\n",
      "dtype: int64\n"
     ]
    },
    {
     "data": {
      "text/plain": [
       "0    1.0\n",
       "1    2.0\n",
       "2    3.0\n",
       "3    4.0\n",
       "4    5.0\n",
       "dtype: float64"
      ]
     },
     "execution_count": 17,
     "metadata": {},
     "output_type": "execute_result"
    }
   ],
   "source": [
    "series = pd.Series([2,4,6,8,10])\n",
    "print(series)\n",
    "\n",
    "modified_series = series.apply(lambda x:x/2)\n",
    "modified_series\n"
   ]
  },
  {
   "cell_type": "markdown",
   "id": "adcd83b4",
   "metadata": {},
   "source": [
    "EXERCISE 5 - Dictionary-to-Dataframe Conversion"
   ]
  },
  {
   "cell_type": "code",
   "execution_count": 18,
   "id": "252b979f",
   "metadata": {},
   "outputs": [
    {
     "data": {
      "text/html": [
       "<div>\n",
       "<style scoped>\n",
       "    .dataframe tbody tr th:only-of-type {\n",
       "        vertical-align: middle;\n",
       "    }\n",
       "\n",
       "    .dataframe tbody tr th {\n",
       "        vertical-align: top;\n",
       "    }\n",
       "\n",
       "    .dataframe thead th {\n",
       "        text-align: right;\n",
       "    }\n",
       "</style>\n",
       "<table border=\"1\" class=\"dataframe\">\n",
       "  <thead>\n",
       "    <tr style=\"text-align: right;\">\n",
       "      <th></th>\n",
       "      <th>name</th>\n",
       "      <th>age</th>\n",
       "      <th>occ</th>\n",
       "      <th>salary</th>\n",
       "    </tr>\n",
       "  </thead>\n",
       "  <tbody>\n",
       "    <tr>\n",
       "      <th>0</th>\n",
       "      <td>Vinay</td>\n",
       "      <td>22</td>\n",
       "      <td>engineer</td>\n",
       "      <td>60000</td>\n",
       "    </tr>\n",
       "    <tr>\n",
       "      <th>1</th>\n",
       "      <td>Kushal</td>\n",
       "      <td>25</td>\n",
       "      <td>doctor</td>\n",
       "      <td>70000</td>\n",
       "    </tr>\n",
       "    <tr>\n",
       "      <th>2</th>\n",
       "      <td>Aman</td>\n",
       "      <td>24</td>\n",
       "      <td>accountant</td>\n",
       "      <td>50000</td>\n",
       "    </tr>\n",
       "    <tr>\n",
       "      <th>3</th>\n",
       "      <td>Rahul</td>\n",
       "      <td>28</td>\n",
       "      <td>doctor</td>\n",
       "      <td>60000</td>\n",
       "    </tr>\n",
       "    <tr>\n",
       "      <th>4</th>\n",
       "      <td>Ramesh</td>\n",
       "      <td>27</td>\n",
       "      <td>doctor</td>\n",
       "      <td>65000</td>\n",
       "    </tr>\n",
       "  </tbody>\n",
       "</table>\n",
       "</div>"
      ],
      "text/plain": [
       "     name  age         occ  salary\n",
       "0   Vinay   22    engineer   60000\n",
       "1  Kushal   25      doctor   70000\n",
       "2    Aman   24  accountant   50000\n",
       "3   Rahul   28      doctor   60000\n",
       "4  Ramesh   27      doctor   65000"
      ]
     },
     "execution_count": 18,
     "metadata": {},
     "output_type": "execute_result"
    }
   ],
   "source": [
    "dict_ = {'name':['Vinay', 'Kushal', 'Aman','Rahul','Ramesh'],\n",
    "        'age':[22, 25, 24,28,27],\n",
    "        'occ':['engineer', 'doctor', 'accountant','doctor','doctor'],\n",
    "        'salary':[60000,70000,50000,60000,65000]}\n",
    "\n",
    "df = pd.DataFrame(dict_)\n",
    "df"
   ]
  },
  {
   "cell_type": "markdown",
   "id": "aa6f0b4c",
   "metadata": {},
   "source": [
    "EXERCISE 6 - 2D List-to-Dataframe Conversion"
   ]
  },
  {
   "cell_type": "code",
   "execution_count": 19,
   "id": "57495463",
   "metadata": {},
   "outputs": [
    {
     "data": {
      "text/html": [
       "<div>\n",
       "<style scoped>\n",
       "    .dataframe tbody tr th:only-of-type {\n",
       "        vertical-align: middle;\n",
       "    }\n",
       "\n",
       "    .dataframe tbody tr th {\n",
       "        vertical-align: top;\n",
       "    }\n",
       "\n",
       "    .dataframe thead th {\n",
       "        text-align: right;\n",
       "    }\n",
       "</style>\n",
       "<table border=\"1\" class=\"dataframe\">\n",
       "  <thead>\n",
       "    <tr style=\"text-align: right;\">\n",
       "      <th></th>\n",
       "      <th>id</th>\n",
       "      <th>name</th>\n",
       "      <th>age</th>\n",
       "    </tr>\n",
       "  </thead>\n",
       "  <tbody>\n",
       "    <tr>\n",
       "      <th>0</th>\n",
       "      <td>2</td>\n",
       "      <td>Vishal</td>\n",
       "      <td>22</td>\n",
       "    </tr>\n",
       "    <tr>\n",
       "      <th>1</th>\n",
       "      <td>1</td>\n",
       "      <td>Kushal</td>\n",
       "      <td>25</td>\n",
       "    </tr>\n",
       "    <tr>\n",
       "      <th>2</th>\n",
       "      <td>1</td>\n",
       "      <td>Aman</td>\n",
       "      <td>24</td>\n",
       "    </tr>\n",
       "  </tbody>\n",
       "</table>\n",
       "</div>"
      ],
      "text/plain": [
       "   id    name  age\n",
       "0   2  Vishal   22\n",
       "1   1  Kushal   25\n",
       "2   1    Aman   24"
      ]
     },
     "execution_count": 19,
     "metadata": {},
     "output_type": "execute_result"
    }
   ],
   "source": [
    "list_ = [[2,'Vishal',22],\n",
    "         [1,'Kushal',25],[1,'Aman',24]]\n",
    "\n",
    "dfx = pd.DataFrame(list_, columns=['id','name','age'])\n",
    "dfx"
   ]
  },
  {
   "cell_type": "markdown",
   "id": "6d6d71ff",
   "metadata": {},
   "source": [
    "EXERCISE 7 - Reading CSV to Dataframe"
   ]
  },
  {
   "cell_type": "code",
   "execution_count": 21,
   "id": "3de9b06f",
   "metadata": {},
   "outputs": [
    {
     "data": {
      "text/html": [
       "<div>\n",
       "<style scoped>\n",
       "    .dataframe tbody tr th:only-of-type {\n",
       "        vertical-align: middle;\n",
       "    }\n",
       "\n",
       "    .dataframe tbody tr th {\n",
       "        vertical-align: top;\n",
       "    }\n",
       "\n",
       "    .dataframe thead th {\n",
       "        text-align: right;\n",
       "    }\n",
       "</style>\n",
       "<table border=\"1\" class=\"dataframe\">\n",
       "  <thead>\n",
       "    <tr style=\"text-align: right;\">\n",
       "      <th></th>\n",
       "      <th>qrcode</th>\n",
       "      <th>barcode</th>\n",
       "    </tr>\n",
       "  </thead>\n",
       "  <tbody>\n",
       "    <tr>\n",
       "      <th>145452</th>\n",
       "      <td>ABRNFC</td>\n",
       "      <td>https://kop0.com/ABRNFC</td>\n",
       "    </tr>\n",
       "    <tr>\n",
       "      <th>145453</th>\n",
       "      <td>ABRNFD</td>\n",
       "      <td>https://kop0.com/ABRNFD</td>\n",
       "    </tr>\n",
       "    <tr>\n",
       "      <th>145454</th>\n",
       "      <td>ABRNFE</td>\n",
       "      <td>https://kop0.com/ABRNFE</td>\n",
       "    </tr>\n",
       "    <tr>\n",
       "      <th>145455</th>\n",
       "      <td>ABRNFF</td>\n",
       "      <td>https://kop0.com/ABRNFF</td>\n",
       "    </tr>\n",
       "    <tr>\n",
       "      <th>145456</th>\n",
       "      <td>ABRNFG</td>\n",
       "      <td>https://kop0.com/ABRNFG</td>\n",
       "    </tr>\n",
       "  </tbody>\n",
       "</table>\n",
       "</div>"
      ],
      "text/plain": [
       "        qrcode                  barcode\n",
       "145452  ABRNFC  https://kop0.com/ABRNFC\n",
       "145453  ABRNFD  https://kop0.com/ABRNFD\n",
       "145454  ABRNFE  https://kop0.com/ABRNFE\n",
       "145455  ABRNFF  https://kop0.com/ABRNFF\n",
       "145456  ABRNFG  https://kop0.com/ABRNFG"
      ]
     },
     "execution_count": 21,
     "metadata": {},
     "output_type": "execute_result"
    }
   ],
   "source": [
    "dfc = pd.read_csv('new_qrcode2.csv')\n",
    "dfc.tail()"
   ]
  },
  {
   "cell_type": "markdown",
   "id": "2d13a911",
   "metadata": {},
   "source": [
    "EXERCISE 8 - Setting Custom Index in Dataframe"
   ]
  },
  {
   "cell_type": "code",
   "execution_count": 27,
   "id": "84c4a31c",
   "metadata": {},
   "outputs": [
    {
     "name": "stdout",
     "output_type": "stream",
     "text": [
      "   id    name  age\n",
      "0   2  Vishal   22\n",
      "1   1  Kushal   25\n",
      "2   1    Aman   24\n",
      "\n"
     ]
    },
    {
     "data": {
      "text/html": [
       "<div>\n",
       "<style scoped>\n",
       "    .dataframe tbody tr th:only-of-type {\n",
       "        vertical-align: middle;\n",
       "    }\n",
       "\n",
       "    .dataframe tbody tr th {\n",
       "        vertical-align: top;\n",
       "    }\n",
       "\n",
       "    .dataframe thead th {\n",
       "        text-align: right;\n",
       "    }\n",
       "</style>\n",
       "<table border=\"1\" class=\"dataframe\">\n",
       "  <thead>\n",
       "    <tr style=\"text-align: right;\">\n",
       "      <th></th>\n",
       "      <th>name</th>\n",
       "      <th>age</th>\n",
       "    </tr>\n",
       "    <tr>\n",
       "      <th>id</th>\n",
       "      <th></th>\n",
       "      <th></th>\n",
       "    </tr>\n",
       "  </thead>\n",
       "  <tbody>\n",
       "    <tr>\n",
       "      <th>2</th>\n",
       "      <td>Vishal</td>\n",
       "      <td>22</td>\n",
       "    </tr>\n",
       "    <tr>\n",
       "      <th>1</th>\n",
       "      <td>Kushal</td>\n",
       "      <td>25</td>\n",
       "    </tr>\n",
       "    <tr>\n",
       "      <th>1</th>\n",
       "      <td>Aman</td>\n",
       "      <td>24</td>\n",
       "    </tr>\n",
       "  </tbody>\n",
       "</table>\n",
       "</div>"
      ],
      "text/plain": [
       "      name  age\n",
       "id             \n",
       "2   Vishal   22\n",
       "1   Kushal   25\n",
       "1     Aman   24"
      ]
     },
     "execution_count": 27,
     "metadata": {},
     "output_type": "execute_result"
    }
   ],
   "source": [
    "print(dfx.head())\n",
    "\n",
    "print()\n",
    "\n",
    "df_customindex = dfx.set_index('id')\n",
    "df_customindex"
   ]
  },
  {
   "cell_type": "markdown",
   "id": "2fad6489",
   "metadata": {},
   "source": [
    "EXERCISE 9 - Sorting a Dataframe by Index"
   ]
  },
  {
   "cell_type": "code",
   "execution_count": 29,
   "id": "bfb770d5",
   "metadata": {},
   "outputs": [
    {
     "name": "stdout",
     "output_type": "stream",
     "text": [
      "      name  age\n",
      "id             \n",
      "2   Vishal   22\n",
      "1   Kushal   25\n",
      "1     Aman   24\n",
      "\n"
     ]
    },
    {
     "data": {
      "text/html": [
       "<div>\n",
       "<style scoped>\n",
       "    .dataframe tbody tr th:only-of-type {\n",
       "        vertical-align: middle;\n",
       "    }\n",
       "\n",
       "    .dataframe tbody tr th {\n",
       "        vertical-align: top;\n",
       "    }\n",
       "\n",
       "    .dataframe thead th {\n",
       "        text-align: right;\n",
       "    }\n",
       "</style>\n",
       "<table border=\"1\" class=\"dataframe\">\n",
       "  <thead>\n",
       "    <tr style=\"text-align: right;\">\n",
       "      <th></th>\n",
       "      <th>name</th>\n",
       "      <th>age</th>\n",
       "    </tr>\n",
       "    <tr>\n",
       "      <th>id</th>\n",
       "      <th></th>\n",
       "      <th></th>\n",
       "    </tr>\n",
       "  </thead>\n",
       "  <tbody>\n",
       "    <tr>\n",
       "      <th>1</th>\n",
       "      <td>Kushal</td>\n",
       "      <td>25</td>\n",
       "    </tr>\n",
       "    <tr>\n",
       "      <th>1</th>\n",
       "      <td>Aman</td>\n",
       "      <td>24</td>\n",
       "    </tr>\n",
       "    <tr>\n",
       "      <th>2</th>\n",
       "      <td>Vishal</td>\n",
       "      <td>22</td>\n",
       "    </tr>\n",
       "  </tbody>\n",
       "</table>\n",
       "</div>"
      ],
      "text/plain": [
       "      name  age\n",
       "id             \n",
       "1   Kushal   25\n",
       "1     Aman   24\n",
       "2   Vishal   22"
      ]
     },
     "execution_count": 29,
     "metadata": {},
     "output_type": "execute_result"
    }
   ],
   "source": [
    "print(df_customindex)\n",
    "print()\n",
    "df_sorted_customindex = df_customindex.sort_index()\n",
    "df_sorted_customindex"
   ]
  },
  {
   "cell_type": "markdown",
   "id": "545bc0bd",
   "metadata": {},
   "source": [
    "EXERCISE 10 - Sorting a Dataframe by Multiple Columns"
   ]
  },
  {
   "cell_type": "code",
   "execution_count": 31,
   "id": "9f78c75e",
   "metadata": {},
   "outputs": [
    {
     "name": "stdout",
     "output_type": "stream",
     "text": [
      "   id    name  age\n",
      "0   2  Vishal   22\n",
      "1   1  Kushal   25\n",
      "2   1    Aman   24\n",
      "\n"
     ]
    },
    {
     "data": {
      "text/html": [
       "<div>\n",
       "<style scoped>\n",
       "    .dataframe tbody tr th:only-of-type {\n",
       "        vertical-align: middle;\n",
       "    }\n",
       "\n",
       "    .dataframe tbody tr th {\n",
       "        vertical-align: top;\n",
       "    }\n",
       "\n",
       "    .dataframe thead th {\n",
       "        text-align: right;\n",
       "    }\n",
       "</style>\n",
       "<table border=\"1\" class=\"dataframe\">\n",
       "  <thead>\n",
       "    <tr style=\"text-align: right;\">\n",
       "      <th></th>\n",
       "      <th>id</th>\n",
       "      <th>name</th>\n",
       "      <th>age</th>\n",
       "    </tr>\n",
       "  </thead>\n",
       "  <tbody>\n",
       "    <tr>\n",
       "      <th>2</th>\n",
       "      <td>1</td>\n",
       "      <td>Aman</td>\n",
       "      <td>24</td>\n",
       "    </tr>\n",
       "    <tr>\n",
       "      <th>1</th>\n",
       "      <td>1</td>\n",
       "      <td>Kushal</td>\n",
       "      <td>25</td>\n",
       "    </tr>\n",
       "    <tr>\n",
       "      <th>0</th>\n",
       "      <td>2</td>\n",
       "      <td>Vishal</td>\n",
       "      <td>22</td>\n",
       "    </tr>\n",
       "  </tbody>\n",
       "</table>\n",
       "</div>"
      ],
      "text/plain": [
       "   id    name  age\n",
       "2   1    Aman   24\n",
       "1   1  Kushal   25\n",
       "0   2  Vishal   22"
      ]
     },
     "execution_count": 31,
     "metadata": {},
     "output_type": "execute_result"
    }
   ],
   "source": [
    "print(dfx) #original DF\n",
    "\n",
    "print()\n",
    "\n",
    "df_sort_multi_values = dfx.sort_values(by=['name','age'])\n",
    "df_sort_multi_values"
   ]
  },
  {
   "cell_type": "markdown",
   "id": "a8fb7378",
   "metadata": {},
   "source": [
    "EXERCISE 11 - DataFrame with Custom Index to DataFrame with Dataframe with default indexes"
   ]
  },
  {
   "cell_type": "code",
   "execution_count": 33,
   "id": "5e8ed5e0",
   "metadata": {},
   "outputs": [
    {
     "name": "stdout",
     "output_type": "stream",
     "text": [
      "      name  age\n",
      "id             \n",
      "2   Vishal   22\n",
      "1   Kushal   25\n",
      "1     Aman   24\n",
      "\n"
     ]
    },
    {
     "data": {
      "text/html": [
       "<div>\n",
       "<style scoped>\n",
       "    .dataframe tbody tr th:only-of-type {\n",
       "        vertical-align: middle;\n",
       "    }\n",
       "\n",
       "    .dataframe tbody tr th {\n",
       "        vertical-align: top;\n",
       "    }\n",
       "\n",
       "    .dataframe thead th {\n",
       "        text-align: right;\n",
       "    }\n",
       "</style>\n",
       "<table border=\"1\" class=\"dataframe\">\n",
       "  <thead>\n",
       "    <tr style=\"text-align: right;\">\n",
       "      <th></th>\n",
       "      <th>id</th>\n",
       "      <th>name</th>\n",
       "      <th>age</th>\n",
       "    </tr>\n",
       "  </thead>\n",
       "  <tbody>\n",
       "    <tr>\n",
       "      <th>0</th>\n",
       "      <td>2</td>\n",
       "      <td>Vishal</td>\n",
       "      <td>22</td>\n",
       "    </tr>\n",
       "    <tr>\n",
       "      <th>1</th>\n",
       "      <td>1</td>\n",
       "      <td>Kushal</td>\n",
       "      <td>25</td>\n",
       "    </tr>\n",
       "    <tr>\n",
       "      <th>2</th>\n",
       "      <td>1</td>\n",
       "      <td>Aman</td>\n",
       "      <td>24</td>\n",
       "    </tr>\n",
       "  </tbody>\n",
       "</table>\n",
       "</div>"
      ],
      "text/plain": [
       "   id    name  age\n",
       "0   2  Vishal   22\n",
       "1   1  Kushal   25\n",
       "2   1    Aman   24"
      ]
     },
     "execution_count": 33,
     "metadata": {},
     "output_type": "execute_result"
    }
   ],
   "source": [
    "print(df_customindex)\n",
    "print()\n",
    "df = df_customindex.reset_index()\n",
    "df"
   ]
  },
  {
   "cell_type": "markdown",
   "id": "4afe1250",
   "metadata": {},
   "source": [
    "EXERCISE 12 - Indexing and Selecting Columns in a DataFrame"
   ]
  },
  {
   "cell_type": "code",
   "execution_count": 38,
   "id": "68a6ed02",
   "metadata": {},
   "outputs": [
    {
     "name": "stdout",
     "output_type": "stream",
     "text": [
      "   id    name  age\n",
      "0   2  Vishal   22\n",
      "1   1  Kushal   25\n",
      "2   1    Aman   24\n",
      "\n"
     ]
    },
    {
     "data": {
      "text/plain": [
       "0    Vishal\n",
       "1    Kushal\n",
       "2      Aman\n",
       "Name: name, dtype: object"
      ]
     },
     "execution_count": 38,
     "metadata": {},
     "output_type": "execute_result"
    }
   ],
   "source": [
    "print(df) # OG DF\n",
    "print()\n",
    "\n",
    "o = df['name']\n",
    "o"
   ]
  },
  {
   "cell_type": "markdown",
   "id": "e41f5382",
   "metadata": {},
   "source": [
    "Use iloc"
   ]
  },
  {
   "cell_type": "code",
   "execution_count": 39,
   "id": "210a5280",
   "metadata": {},
   "outputs": [
    {
     "name": "stdout",
     "output_type": "stream",
     "text": [
      "   id    name  age\n",
      "0   2  Vishal   22\n",
      "1   1  Kushal   25\n",
      "2   1    Aman   24\n",
      "\n"
     ]
    },
    {
     "data": {
      "text/plain": [
       "0    Vishal\n",
       "1    Kushal\n",
       "2      Aman\n",
       "Name: name, dtype: object"
      ]
     },
     "execution_count": 39,
     "metadata": {},
     "output_type": "execute_result"
    }
   ],
   "source": [
    "print(df)\n",
    "print()\n",
    "\n",
    "name = df.iloc[:,1]\n",
    "name"
   ]
  },
  {
   "cell_type": "code",
   "execution_count": null,
   "id": "44a418ba",
   "metadata": {},
   "outputs": [],
   "source": []
  }
 ],
 "metadata": {
  "kernelspec": {
   "display_name": "Python 3 (ipykernel)",
   "language": "python",
   "name": "python3"
  },
  "language_info": {
   "codemirror_mode": {
    "name": "ipython",
    "version": 3
   },
   "file_extension": ".py",
   "mimetype": "text/x-python",
   "name": "python",
   "nbconvert_exporter": "python",
   "pygments_lexer": "ipython3",
   "version": "3.9.12"
  }
 },
 "nbformat": 4,
 "nbformat_minor": 5
}
