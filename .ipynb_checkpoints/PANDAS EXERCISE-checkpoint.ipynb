{
 "cells": [
  {
   "cell_type": "markdown",
   "id": "e7ee0ce7",
   "metadata": {},
   "source": [
    "PANDAS EXERCISE"
   ]
  },
  {
   "cell_type": "code",
   "execution_count": 1,
   "id": "5deb9b5d",
   "metadata": {},
   "outputs": [],
   "source": [
    "import pandas as pd"
   ]
  },
  {
   "cell_type": "markdown",
   "id": "d2a7bd31",
   "metadata": {},
   "source": [
    "EXERCISE 1 - List-to-Series Conversion"
   ]
  },
  {
   "cell_type": "code",
   "execution_count": 2,
   "id": "6442de71",
   "metadata": {},
   "outputs": [
    {
     "name": "stdout",
     "output_type": "stream",
     "text": [
      "0    2\n",
      "1    4\n",
      "2    5\n",
      "3    6\n",
      "4    9\n",
      "dtype: int64\n"
     ]
    }
   ],
   "source": [
    "given = [2,4,5,6,9]\n",
    "\n",
    "series = pd.Series(given)\n",
    "print(series)"
   ]
  },
  {
   "cell_type": "markdown",
   "id": "d2eb25af",
   "metadata": {},
   "source": [
    "EXERCISE 2 - List-to-Series Conversion with Custom Indexing"
   ]
  },
  {
   "cell_type": "code",
   "execution_count": 6,
   "id": "68526b4a",
   "metadata": {},
   "outputs": [
    {
     "name": "stdout",
     "output_type": "stream",
     "text": [
      "1    2\n",
      "3    4\n",
      "5    5\n",
      "7    6\n",
      "9    9\n",
      "dtype: int64\n"
     ]
    }
   ],
   "source": [
    "given = [2,4,5,6,9]\n",
    "series = pd.Series(given,index=[1,3,5,7,9])\n",
    "print(series)"
   ]
  },
  {
   "cell_type": "markdown",
   "id": "4b389765",
   "metadata": {},
   "source": [
    "EXERCISE 3 - Date Series Generation"
   ]
  },
  {
   "cell_type": "code",
   "execution_count": 8,
   "id": "7f36dea1",
   "metadata": {},
   "outputs": [
    {
     "name": "stdout",
     "output_type": "stream",
     "text": [
      "DatetimeIndex(['2022-05-01', '2022-05-02', '2022-05-03', '2022-05-04',\n",
      "               '2022-05-05', '2022-05-06', '2022-05-07', '2022-05-08',\n",
      "               '2022-05-09', '2022-05-10', '2022-05-11', '2022-05-12'],\n",
      "              dtype='datetime64[ns]', freq='D')\n"
     ]
    }
   ],
   "source": [
    "data_series = pd.date_range(start='05-01-2022',end='05-12-2022')\n",
    "print(data_series)"
   ]
  },
  {
   "cell_type": "markdown",
   "id": "ea3c4527",
   "metadata": {},
   "source": [
    "EXERCISE 4 - Implementing a function on each and every element of a series"
   ]
  },
  {
   "cell_type": "code",
   "execution_count": 9,
   "id": "0a227b9f",
   "metadata": {},
   "outputs": [
    {
     "name": "stdout",
     "output_type": "stream",
     "text": [
      "0     2\n",
      "1     4\n",
      "2     6\n",
      "3     8\n",
      "4    10\n",
      "dtype: int64\n",
      "\n",
      "0    1.0\n",
      "1    2.0\n",
      "2    3.0\n",
      "3    4.0\n",
      "4    5.0\n",
      "dtype: float64\n"
     ]
    }
   ],
   "source": [
    "series = pd.Series([2,4,6,8,10])\n",
    "print(series) # pandas series initially\n",
    "print()\n",
    "modified_series = series.apply(lambda x:x/2)\n",
    "print(modified_series) # pandas series after function application"
   ]
  },
  {
   "cell_type": "markdown",
   "id": "ae1e2e0e",
   "metadata": {},
   "source": [
    "EXERCISE 5 - Dictionary-to-Dataframe Conversion"
   ]
  },
  {
   "cell_type": "code",
   "execution_count": 67,
   "id": "150feffc",
   "metadata": {},
   "outputs": [
    {
     "name": "stdout",
     "output_type": "stream",
     "text": [
      "     name  age         occ  salary\n",
      "0   Vinay   22    engineer   60000\n",
      "1  Kushal   25      doctor   70000\n",
      "2    Aman   24  accountant   50000\n",
      "3   Rahul   28      doctor   60000\n",
      "4  Ramesh   27      doctor   65000\n"
     ]
    }
   ],
   "source": [
    "dictionary = {'name':['Vinay', 'Kushal', 'Aman','Rahul','Ramesh'],\n",
    "              'age':[22, 25, 24,28,27],\n",
    "              'occ':['engineer', 'doctor', 'accountant','doctor','doctor'],\n",
    "             'salary':[60000,70000,50000,60000,65000]}\n",
    "df = pd.DataFrame(dictionary)\n",
    "print(df)"
   ]
  },
  {
   "cell_type": "markdown",
   "id": "6a6d4ddf",
   "metadata": {},
   "source": [
    "EXERCISE 6 - 2D List-to-Dataframe Conversion"
   ]
  },
  {
   "cell_type": "code",
   "execution_count": 21,
   "id": "489f1f19",
   "metadata": {},
   "outputs": [
    {
     "data": {
      "text/html": [
       "<div>\n",
       "<style scoped>\n",
       "    .dataframe tbody tr th:only-of-type {\n",
       "        vertical-align: middle;\n",
       "    }\n",
       "\n",
       "    .dataframe tbody tr th {\n",
       "        vertical-align: top;\n",
       "    }\n",
       "\n",
       "    .dataframe thead th {\n",
       "        text-align: right;\n",
       "    }\n",
       "</style>\n",
       "<table border=\"1\" class=\"dataframe\">\n",
       "  <thead>\n",
       "    <tr style=\"text-align: right;\">\n",
       "      <th></th>\n",
       "      <th>id</th>\n",
       "      <th>name</th>\n",
       "      <th>age</th>\n",
       "    </tr>\n",
       "  </thead>\n",
       "  <tbody>\n",
       "    <tr>\n",
       "      <th>0</th>\n",
       "      <td>2</td>\n",
       "      <td>Vishal</td>\n",
       "      <td>22</td>\n",
       "    </tr>\n",
       "    <tr>\n",
       "      <th>1</th>\n",
       "      <td>1</td>\n",
       "      <td>Kushal</td>\n",
       "      <td>25</td>\n",
       "    </tr>\n",
       "    <tr>\n",
       "      <th>2</th>\n",
       "      <td>1</td>\n",
       "      <td>Aman</td>\n",
       "      <td>24</td>\n",
       "    </tr>\n",
       "  </tbody>\n",
       "</table>\n",
       "</div>"
      ],
      "text/plain": [
       "   id    name  age\n",
       "0   2  Vishal   22\n",
       "1   1  Kushal   25\n",
       "2   1    Aman   24"
      ]
     },
     "execution_count": 21,
     "metadata": {},
     "output_type": "execute_result"
    }
   ],
   "source": [
    "lists = [[2,'Vishal',22],\n",
    "         [1,'Kushal',25],[1,'Aman',24]]\n",
    "\n",
    "dfx = pd.DataFrame(lists,columns=['id','name','age'])\n",
    "dfx"
   ]
  },
  {
   "cell_type": "markdown",
   "id": "24962224",
   "metadata": {},
   "source": [
    "EXERCISE 7 - Reading CSV to Dataframe"
   ]
  },
  {
   "cell_type": "code",
   "execution_count": 14,
   "id": "b2c09c41",
   "metadata": {},
   "outputs": [
    {
     "name": "stdout",
     "output_type": "stream",
     "text": [
      "        qrcode                  barcode\n",
      "0       ABLATX  https://kop0.com/ABLATX\n",
      "1       ABLATY  https://kop0.com/ABLATY\n",
      "2       ABLATZ  https://kop0.com/ABLATZ\n",
      "3       ABLAT2  https://kop0.com/ABLAT2\n",
      "4       ABLAT3  https://kop0.com/ABLAT3\n",
      "...        ...                      ...\n",
      "145452  ABRNFC  https://kop0.com/ABRNFC\n",
      "145453  ABRNFD  https://kop0.com/ABRNFD\n",
      "145454  ABRNFE  https://kop0.com/ABRNFE\n",
      "145455  ABRNFF  https://kop0.com/ABRNFF\n",
      "145456  ABRNFG  https://kop0.com/ABRNFG\n",
      "\n",
      "[145457 rows x 2 columns]\n"
     ]
    }
   ],
   "source": [
    "df = pd.read_csv('new_qrcode2.csv')\n",
    "print(df)"
   ]
  },
  {
   "cell_type": "markdown",
   "id": "bf3ff167",
   "metadata": {},
   "source": [
    "EXERCISE 8 - Setting Custom Index in Dataframe"
   ]
  },
  {
   "cell_type": "code",
   "execution_count": 23,
   "id": "793ea5d9",
   "metadata": {},
   "outputs": [
    {
     "name": "stdout",
     "output_type": "stream",
     "text": [
      "   id    name  age\n",
      "0   2  Vishal   22\n",
      "1   1  Kushal   25\n",
      "2   1    Aman   24\n",
      "\n",
      "      name  age\n",
      "id             \n",
      "2   Vishal   22\n",
      "1   Kushal   25\n",
      "1     Aman   24\n"
     ]
    }
   ],
   "source": [
    "print(dfx.head())\n",
    "\n",
    "print()\n",
    "\n",
    "dataframe_customindex = dfx.set_index('id')\n",
    "print(dataframe_customindex.head())"
   ]
  },
  {
   "cell_type": "markdown",
   "id": "7278b3cc",
   "metadata": {},
   "source": [
    "EXERCISE 9 - Sorting a Dataframe by Index"
   ]
  },
  {
   "cell_type": "markdown",
   "id": "10897d72",
   "metadata": {},
   "source": [
    "print(dataframe_customindex)\n",
    "print()\n",
    "dataframe_sorted = dataframe_customindex.sort_index()\n",
    "print(dataframe_sorted)"
   ]
  },
  {
   "cell_type": "markdown",
   "id": "225abf1c",
   "metadata": {},
   "source": [
    "EXERCISE 10 - Sorting a Dataframe by Multiple Columns"
   ]
  },
  {
   "cell_type": "code",
   "execution_count": 31,
   "id": "4fe0e648",
   "metadata": {},
   "outputs": [
    {
     "name": "stdout",
     "output_type": "stream",
     "text": [
      "   id    name  age\n",
      "0   2  Vishal   22\n",
      "1   1  Kushal   25\n",
      "2   1    Aman   24\n",
      "\n"
     ]
    },
    {
     "data": {
      "text/html": [
       "<div>\n",
       "<style scoped>\n",
       "    .dataframe tbody tr th:only-of-type {\n",
       "        vertical-align: middle;\n",
       "    }\n",
       "\n",
       "    .dataframe tbody tr th {\n",
       "        vertical-align: top;\n",
       "    }\n",
       "\n",
       "    .dataframe thead th {\n",
       "        text-align: right;\n",
       "    }\n",
       "</style>\n",
       "<table border=\"1\" class=\"dataframe\">\n",
       "  <thead>\n",
       "    <tr style=\"text-align: right;\">\n",
       "      <th></th>\n",
       "      <th>id</th>\n",
       "      <th>name</th>\n",
       "      <th>age</th>\n",
       "    </tr>\n",
       "  </thead>\n",
       "  <tbody>\n",
       "    <tr>\n",
       "      <th>2</th>\n",
       "      <td>1</td>\n",
       "      <td>Aman</td>\n",
       "      <td>24</td>\n",
       "    </tr>\n",
       "    <tr>\n",
       "      <th>1</th>\n",
       "      <td>1</td>\n",
       "      <td>Kushal</td>\n",
       "      <td>25</td>\n",
       "    </tr>\n",
       "    <tr>\n",
       "      <th>0</th>\n",
       "      <td>2</td>\n",
       "      <td>Vishal</td>\n",
       "      <td>22</td>\n",
       "    </tr>\n",
       "  </tbody>\n",
       "</table>\n",
       "</div>"
      ],
      "text/plain": [
       "   id    name  age\n",
       "2   1    Aman   24\n",
       "1   1  Kushal   25\n",
       "0   2  Vishal   22"
      ]
     },
     "execution_count": 31,
     "metadata": {},
     "output_type": "execute_result"
    }
   ],
   "source": [
    "print(dfx) #original dataframe\n",
    "\n",
    "print()\n",
    "\n",
    "df_sorted = dfx.sort_values(by=['id','age'])\n",
    "df_sorted"
   ]
  },
  {
   "cell_type": "markdown",
   "id": "9d6c8479",
   "metadata": {},
   "source": [
    "EXERCISE 11 - DataFrame with Custom Index to DataFrame with Dataframe with default indexes"
   ]
  },
  {
   "cell_type": "code",
   "execution_count": 33,
   "id": "e73146fe",
   "metadata": {},
   "outputs": [
    {
     "name": "stdout",
     "output_type": "stream",
     "text": [
      "\n"
     ]
    },
    {
     "data": {
      "text/html": [
       "<div>\n",
       "<style scoped>\n",
       "    .dataframe tbody tr th:only-of-type {\n",
       "        vertical-align: middle;\n",
       "    }\n",
       "\n",
       "    .dataframe tbody tr th {\n",
       "        vertical-align: top;\n",
       "    }\n",
       "\n",
       "    .dataframe thead th {\n",
       "        text-align: right;\n",
       "    }\n",
       "</style>\n",
       "<table border=\"1\" class=\"dataframe\">\n",
       "  <thead>\n",
       "    <tr style=\"text-align: right;\">\n",
       "      <th></th>\n",
       "      <th>id</th>\n",
       "      <th>name</th>\n",
       "      <th>age</th>\n",
       "    </tr>\n",
       "  </thead>\n",
       "  <tbody>\n",
       "    <tr>\n",
       "      <th>0</th>\n",
       "      <td>2</td>\n",
       "      <td>Vishal</td>\n",
       "      <td>22</td>\n",
       "    </tr>\n",
       "    <tr>\n",
       "      <th>1</th>\n",
       "      <td>1</td>\n",
       "      <td>Kushal</td>\n",
       "      <td>25</td>\n",
       "    </tr>\n",
       "    <tr>\n",
       "      <th>2</th>\n",
       "      <td>1</td>\n",
       "      <td>Aman</td>\n",
       "      <td>24</td>\n",
       "    </tr>\n",
       "  </tbody>\n",
       "</table>\n",
       "</div>"
      ],
      "text/plain": [
       "   id    name  age\n",
       "0   2  Vishal   22\n",
       "1   1  Kushal   25\n",
       "2   1    Aman   24"
      ]
     },
     "execution_count": 33,
     "metadata": {},
     "output_type": "execute_result"
    }
   ],
   "source": [
    "print(dataframe_customindex) # custom index\n",
    "\n",
    "print()\n",
    "\n",
    "dataframe = dataframe_customindex.reset_index()\n",
    "dataframe # original default index"
   ]
  },
  {
   "cell_type": "markdown",
   "id": "fe8ed63f",
   "metadata": {},
   "source": [
    "EXERCISE 12 - Indexing and Selecting Columns in a DataFrame"
   ]
  },
  {
   "cell_type": "code",
   "execution_count": 38,
   "id": "47ab6a14",
   "metadata": {},
   "outputs": [
    {
     "name": "stdout",
     "output_type": "stream",
     "text": [
      "   id    name  age\n",
      "0   2  Vishal   22\n",
      "1   1  Kushal   25\n",
      "2   1    Aman   24\n",
      "\n",
      "0    Vishal\n",
      "1    Kushal\n",
      "2      Aman\n",
      "Name: name, dtype: object\n"
     ]
    }
   ],
   "source": [
    "print(dfx) # original dataframe\n",
    "\n",
    "print()\n",
    "\n",
    "o = dfx['name'] # extracting the column 'name'\n",
    "print(o)"
   ]
  },
  {
   "cell_type": "code",
   "execution_count": 42,
   "id": "0754db35",
   "metadata": {},
   "outputs": [
    {
     "name": "stdout",
     "output_type": "stream",
     "text": [
      "   id    name  age\n",
      "0   2  Vishal   22\n",
      "1   1  Kushal   25\n",
      "2   1    Aman   24\n",
      "\n",
      "0    Vishal\n",
      "1    Kushal\n",
      "2      Aman\n",
      "Name: name, dtype: object\n"
     ]
    }
   ],
   "source": [
    "print(dfx) # original dataframe\n",
    "\n",
    "print()\n",
    "\n",
    "o = dataframe.iloc[:,1] # extracting the column 'name'\n",
    "print(o)"
   ]
  },
  {
   "cell_type": "code",
   "execution_count": 43,
   "id": "6eaea297",
   "metadata": {},
   "outputs": [
    {
     "name": "stdout",
     "output_type": "stream",
     "text": [
      "   id    name  age\n",
      "0   2  Vishal   22\n",
      "1   1  Kushal   25\n",
      "2   1    Aman   24\n",
      "\n",
      "0    Vishal\n",
      "1    Kushal\n",
      "2      Aman\n",
      "Name: name, dtype: object\n"
     ]
    }
   ],
   "source": [
    "print(dfx)  # original dataframe\n",
    "print()\n",
    "o = dfx.loc[:,'name'] # extracting the column 'name'\n",
    "print(o)"
   ]
  },
  {
   "cell_type": "markdown",
   "id": "1dd6fc2c",
   "metadata": {},
   "source": [
    "EXERCISE 13 - Indexing and Selecting Rows in a DataFrame"
   ]
  },
  {
   "cell_type": "markdown",
   "id": "56007ac8",
   "metadata": {},
   "source": [
    "Given a dataframe, select first 2 rows and output them"
   ]
  },
  {
   "cell_type": "code",
   "execution_count": 44,
   "id": "7d966037",
   "metadata": {},
   "outputs": [
    {
     "name": "stdout",
     "output_type": "stream",
     "text": [
      "   id    name  age\n",
      "0   2  Vishal   22\n",
      "1   1  Kushal   25\n",
      "2   1    Aman   24\n",
      "\n"
     ]
    },
    {
     "data": {
      "text/html": [
       "<div>\n",
       "<style scoped>\n",
       "    .dataframe tbody tr th:only-of-type {\n",
       "        vertical-align: middle;\n",
       "    }\n",
       "\n",
       "    .dataframe tbody tr th {\n",
       "        vertical-align: top;\n",
       "    }\n",
       "\n",
       "    .dataframe thead th {\n",
       "        text-align: right;\n",
       "    }\n",
       "</style>\n",
       "<table border=\"1\" class=\"dataframe\">\n",
       "  <thead>\n",
       "    <tr style=\"text-align: right;\">\n",
       "      <th></th>\n",
       "      <th>id</th>\n",
       "      <th>name</th>\n",
       "      <th>age</th>\n",
       "    </tr>\n",
       "  </thead>\n",
       "  <tbody>\n",
       "    <tr>\n",
       "      <th>0</th>\n",
       "      <td>2</td>\n",
       "      <td>Vishal</td>\n",
       "      <td>22</td>\n",
       "    </tr>\n",
       "    <tr>\n",
       "      <th>1</th>\n",
       "      <td>1</td>\n",
       "      <td>Kushal</td>\n",
       "      <td>25</td>\n",
       "    </tr>\n",
       "  </tbody>\n",
       "</table>\n",
       "</div>"
      ],
      "text/plain": [
       "   id    name  age\n",
       "0   2  Vishal   22\n",
       "1   1  Kushal   25"
      ]
     },
     "execution_count": 44,
     "metadata": {},
     "output_type": "execute_result"
    }
   ],
   "source": [
    "print(dataframe) # original dataframe\n",
    "print()\n",
    "o = dataframe.iloc[[0,1], :] # extracting the 1st 2 rows of the dataframe\n",
    "o"
   ]
  },
  {
   "cell_type": "markdown",
   "id": "a2138783",
   "metadata": {},
   "source": [
    "Alternative Solution"
   ]
  },
  {
   "cell_type": "code",
   "execution_count": 45,
   "id": "0e15add4",
   "metadata": {},
   "outputs": [
    {
     "name": "stdout",
     "output_type": "stream",
     "text": [
      "   id    name  age\n",
      "0   2  Vishal   22\n",
      "1   1  Kushal   25\n",
      "2   1    Aman   24\n",
      "\n",
      "   id    name  age\n",
      "0   2  Vishal   22\n",
      "1   1  Kushal   25\n"
     ]
    }
   ],
   "source": [
    "print(dataframe) # original dataframe\n",
    "print()\n",
    "o = dataframe.loc[[0,1],:] # extracting the 1st 2 rows of the dataframe\n",
    "print(o)"
   ]
  },
  {
   "cell_type": "markdown",
   "id": "b8fd805a",
   "metadata": {},
   "source": [
    "EXERCISE 14 - Conditional Selection of Rows in a DataFrame"
   ]
  },
  {
   "cell_type": "code",
   "execution_count": 70,
   "id": "ec7f3c17",
   "metadata": {},
   "outputs": [
    {
     "name": "stdout",
     "output_type": "stream",
     "text": [
      "   id    name  age\n",
      "0   2  Vishal   22\n",
      "1   1  Kushal   25\n",
      "2   1    Aman   24\n",
      "\n"
     ]
    },
    {
     "data": {
      "text/html": [
       "<div>\n",
       "<style scoped>\n",
       "    .dataframe tbody tr th:only-of-type {\n",
       "        vertical-align: middle;\n",
       "    }\n",
       "\n",
       "    .dataframe tbody tr th {\n",
       "        vertical-align: top;\n",
       "    }\n",
       "\n",
       "    .dataframe thead th {\n",
       "        text-align: right;\n",
       "    }\n",
       "</style>\n",
       "<table border=\"1\" class=\"dataframe\">\n",
       "  <thead>\n",
       "    <tr style=\"text-align: right;\">\n",
       "      <th></th>\n",
       "      <th>id</th>\n",
       "      <th>name</th>\n",
       "      <th>age</th>\n",
       "    </tr>\n",
       "  </thead>\n",
       "  <tbody>\n",
       "    <tr>\n",
       "      <th>1</th>\n",
       "      <td>1</td>\n",
       "      <td>Kushal</td>\n",
       "      <td>25</td>\n",
       "    </tr>\n",
       "    <tr>\n",
       "      <th>2</th>\n",
       "      <td>1</td>\n",
       "      <td>Aman</td>\n",
       "      <td>24</td>\n",
       "    </tr>\n",
       "  </tbody>\n",
       "</table>\n",
       "</div>"
      ],
      "text/plain": [
       "   id    name  age\n",
       "1   1  Kushal   25\n",
       "2   1    Aman   24"
      ]
     },
     "execution_count": 70,
     "metadata": {},
     "output_type": "execute_result"
    }
   ],
   "source": [
    "print(dataframe) # original dataframe\n",
    "print()\n",
    "\n",
    "# selecting people with age greater than or equal to 24\n",
    "dataframe_condition = dataframe.loc[dataframe['age'] >= 24]\n",
    "dataframe_condition"
   ]
  },
  {
   "cell_type": "markdown",
   "id": "db624cab",
   "metadata": {},
   "source": [
    "EXERCISE 15 - Applying Aggregate Functions\n",
    "Given is a dataframe showing name, occupation, salary of people. Find the average salary per occupation"
   ]
  },
  {
   "cell_type": "code",
   "execution_count": 74,
   "id": "0eb6a38d",
   "metadata": {},
   "outputs": [
    {
     "name": "stdout",
     "output_type": "stream",
     "text": [
      "     name  age         occ  salary\n",
      "0   Vinay   22    engineer   60000\n",
      "1  Kushal   25      doctor   70000\n",
      "2    Aman   24  accountant   50000\n",
      "3   Rahul   28      doctor   60000\n",
      "4  Ramesh   27      doctor   65000\n",
      "\n"
     ]
    },
    {
     "data": {
      "text/plain": [
       "occ\n",
       "accountant    50000.0\n",
       "doctor        65000.0\n",
       "engineer      60000.0\n",
       "Name: salary, dtype: float64"
      ]
     },
     "execution_count": 74,
     "metadata": {},
     "output_type": "execute_result"
    }
   ],
   "source": [
    "print(df)\n",
    "print()\n",
    "\n",
    "occ_avg_age = df.groupby('occ')['salary'].mean()\n",
    "occ_avg_age"
   ]
  },
  {
   "cell_type": "markdown",
   "id": "424258a3",
   "metadata": {},
   "source": [
    "EXERCISE 16 - Filling NaN Values in a DataFrame\n",
    "Given a dataframe with NaN Values, fill the NaN values with 0"
   ]
  },
  {
   "cell_type": "code",
   "execution_count": 82,
   "id": "857437ee",
   "metadata": {},
   "outputs": [
    {
     "name": "stdout",
     "output_type": "stream",
     "text": [
      "     name  age         occ  salary  price\n",
      "0   Vinay   22    engineer   60000    NaN\n",
      "1  Kushal   25      doctor   70000  230.0\n",
      "2    Aman   24  accountant   50000  400.0\n",
      "3   Rahul   28      doctor   60000    NaN\n",
      "4  Ramesh   27      doctor   65000    NaN\n",
      "\n",
      "     name  age         occ  salary  price\n",
      "0   Vinay   22    engineer   60000    0.0\n",
      "1  Kushal   25      doctor   70000  230.0\n",
      "2    Aman   24  accountant   50000  400.0\n",
      "3   Rahul   28      doctor   60000    0.0\n",
      "4  Ramesh   27      doctor   65000    0.0\n"
     ]
    }
   ],
   "source": [
    "# print(df) # original dataframe\n",
    "df2 = df.assign(price=[ float('nan'),230,400, float('nan'), float('nan')])\n",
    "print(df2)\n",
    "\n",
    "print()\n",
    "\n",
    "dataframe_nullfill = df2.fillna(0)\n",
    "print(dataframe_nullfill) # dataframe after filling NaN values with 1"
   ]
  },
  {
   "cell_type": "markdown",
   "id": "4f437374",
   "metadata": {},
   "source": [
    "EXERCISE 17 - Applying Functions (UDFs) on DataFrame"
   ]
  },
  {
   "cell_type": "markdown",
   "id": "142cd272",
   "metadata": {},
   "source": [
    "Given is a dataframe showing Company Names (cname) and corresponding Profits (profit). Convert the values of Profit column such that values in it greater than 0 are set to True and the rest are set to False."
   ]
  },
  {
   "cell_type": "code",
   "execution_count": 85,
   "id": "f23a7291",
   "metadata": {},
   "outputs": [
    {
     "data": {
      "text/html": [
       "<div>\n",
       "<style scoped>\n",
       "    .dataframe tbody tr th:only-of-type {\n",
       "        vertical-align: middle;\n",
       "    }\n",
       "\n",
       "    .dataframe tbody tr th {\n",
       "        vertical-align: top;\n",
       "    }\n",
       "\n",
       "    .dataframe thead th {\n",
       "        text-align: right;\n",
       "    }\n",
       "</style>\n",
       "<table border=\"1\" class=\"dataframe\">\n",
       "  <thead>\n",
       "    <tr style=\"text-align: right;\">\n",
       "      <th></th>\n",
       "      <th>c_name</th>\n",
       "      <th>profit</th>\n",
       "    </tr>\n",
       "  </thead>\n",
       "  <tbody>\n",
       "    <tr>\n",
       "      <th>0</th>\n",
       "      <td>Shyam &amp; Co.</td>\n",
       "      <td>-10000</td>\n",
       "    </tr>\n",
       "    <tr>\n",
       "      <th>1</th>\n",
       "      <td>Ramlal &amp; Bros.</td>\n",
       "      <td>10000</td>\n",
       "    </tr>\n",
       "    <tr>\n",
       "      <th>2</th>\n",
       "      <td>Sharma Enterprises</td>\n",
       "      <td>-5000</td>\n",
       "    </tr>\n",
       "    <tr>\n",
       "      <th>3</th>\n",
       "      <td>Verma Furnitures</td>\n",
       "      <td>15000</td>\n",
       "    </tr>\n",
       "    <tr>\n",
       "      <th>4</th>\n",
       "      <td>Rahul Stores</td>\n",
       "      <td>20000</td>\n",
       "    </tr>\n",
       "  </tbody>\n",
       "</table>\n",
       "</div>"
      ],
      "text/plain": [
       "               c_name  profit\n",
       "0         Shyam & Co.  -10000\n",
       "1      Ramlal & Bros.   10000\n",
       "2  Sharma Enterprises   -5000\n",
       "3    Verma Furnitures   15000\n",
       "4        Rahul Stores   20000"
      ]
     },
     "execution_count": 85,
     "metadata": {},
     "output_type": "execute_result"
    }
   ],
   "source": [
    "list_c = [['Shyam & Co.',-10000],['Ramlal & Bros.',10000],\n",
    "           ['Sharma Enterprises',-5000],['Verma Furnitures',15000],\n",
    "           ['Rahul Stores',20000]]\n",
    "\n",
    "company_data = pd.DataFrame(list_c,columns=['c_name','profit'])\n",
    "company_data"
   ]
  },
  {
   "cell_type": "code",
   "execution_count": 86,
   "id": "93d53899",
   "metadata": {},
   "outputs": [
    {
     "data": {
      "text/html": [
       "<div>\n",
       "<style scoped>\n",
       "    .dataframe tbody tr th:only-of-type {\n",
       "        vertical-align: middle;\n",
       "    }\n",
       "\n",
       "    .dataframe tbody tr th {\n",
       "        vertical-align: top;\n",
       "    }\n",
       "\n",
       "    .dataframe thead th {\n",
       "        text-align: right;\n",
       "    }\n",
       "</style>\n",
       "<table border=\"1\" class=\"dataframe\">\n",
       "  <thead>\n",
       "    <tr style=\"text-align: right;\">\n",
       "      <th></th>\n",
       "      <th>c_name</th>\n",
       "      <th>profit</th>\n",
       "    </tr>\n",
       "  </thead>\n",
       "  <tbody>\n",
       "    <tr>\n",
       "      <th>0</th>\n",
       "      <td>Shyam &amp; Co.</td>\n",
       "      <td>False</td>\n",
       "    </tr>\n",
       "    <tr>\n",
       "      <th>1</th>\n",
       "      <td>Ramlal &amp; Bros.</td>\n",
       "      <td>True</td>\n",
       "    </tr>\n",
       "    <tr>\n",
       "      <th>2</th>\n",
       "      <td>Sharma Enterprises</td>\n",
       "      <td>False</td>\n",
       "    </tr>\n",
       "    <tr>\n",
       "      <th>3</th>\n",
       "      <td>Verma Furnitures</td>\n",
       "      <td>True</td>\n",
       "    </tr>\n",
       "    <tr>\n",
       "      <th>4</th>\n",
       "      <td>Rahul Stores</td>\n",
       "      <td>True</td>\n",
       "    </tr>\n",
       "  </tbody>\n",
       "</table>\n",
       "</div>"
      ],
      "text/plain": [
       "               c_name  profit\n",
       "0         Shyam & Co.   False\n",
       "1      Ramlal & Bros.    True\n",
       "2  Sharma Enterprises   False\n",
       "3    Verma Furnitures    True\n",
       "4        Rahul Stores    True"
      ]
     },
     "execution_count": 86,
     "metadata": {},
     "output_type": "execute_result"
    }
   ],
   "source": [
    "company_data.profit = company_data.profit.apply(lambda x:x>0)\n",
    "company_data"
   ]
  },
  {
   "cell_type": "markdown",
   "id": "e03cf0d3",
   "metadata": {},
   "source": [
    "EXERCISE 18 - Joining 2 DataFrames by a Common Column (key)"
   ]
  },
  {
   "cell_type": "markdown",
   "id": "9ed3caa9",
   "metadata": {},
   "source": [
    "Given are 2 dataframes, with one dataframe containing Employee ID (eid), Employee Name (ename) and Stipend (stipend) and the other dataframe containing Employee ID (eid) and designation of the employee (designation). Output the Dataframe containing Employee ID (eid), Employee Name (ename), Stipend (stipend) and Position (position)."
   ]
  },
  {
   "cell_type": "code",
   "execution_count": 88,
   "id": "505c2621",
   "metadata": {},
   "outputs": [],
   "source": [
    "emp_dict = {'eid':[1,2,3,4],\n",
    "            'ename':['Sid','Ramesh','Ron','Harry'],\n",
    "            'stipend':[10000,10000,5000,15000]}\n",
    "\n",
    "emp_list = [[1,'Sid','employee'],[2,'Ramesh','employee'],\n",
    "           [3,'Ron','intern'],[4,'Harry','senior_employee']]\n",
    "\n",
    "emp_data = pd.DataFrame(emp_dict)\n",
    "\n",
    "comp_data = pd.DataFrame(emp_list,columns=['eid','stipend','position'])"
   ]
  },
  {
   "cell_type": "code",
   "execution_count": 92,
   "id": "ba9ae58c",
   "metadata": {},
   "outputs": [
    {
     "name": "stdout",
     "output_type": "stream",
     "text": [
      "   eid   ename  stipend\n",
      "0    1     Sid    10000\n",
      "1    2  Ramesh    10000\n",
      "2    3     Ron     5000\n",
      "3    4   Harry    15000\n",
      "\n",
      "   eid stipend         position\n",
      "0    1     Sid         employee\n",
      "1    2  Ramesh         employee\n",
      "2    3     Ron           intern\n",
      "3    4   Harry  senior_employee\n",
      "\n"
     ]
    },
    {
     "data": {
      "text/html": [
       "<div>\n",
       "<style scoped>\n",
       "    .dataframe tbody tr th:only-of-type {\n",
       "        vertical-align: middle;\n",
       "    }\n",
       "\n",
       "    .dataframe tbody tr th {\n",
       "        vertical-align: top;\n",
       "    }\n",
       "\n",
       "    .dataframe thead th {\n",
       "        text-align: right;\n",
       "    }\n",
       "</style>\n",
       "<table border=\"1\" class=\"dataframe\">\n",
       "  <thead>\n",
       "    <tr style=\"text-align: right;\">\n",
       "      <th></th>\n",
       "      <th>eid</th>\n",
       "      <th>ename</th>\n",
       "      <th>stipend_x</th>\n",
       "      <th>stipend_y</th>\n",
       "      <th>position</th>\n",
       "    </tr>\n",
       "  </thead>\n",
       "  <tbody>\n",
       "    <tr>\n",
       "      <th>0</th>\n",
       "      <td>1</td>\n",
       "      <td>Sid</td>\n",
       "      <td>10000</td>\n",
       "      <td>Sid</td>\n",
       "      <td>employee</td>\n",
       "    </tr>\n",
       "    <tr>\n",
       "      <th>1</th>\n",
       "      <td>2</td>\n",
       "      <td>Ramesh</td>\n",
       "      <td>10000</td>\n",
       "      <td>Ramesh</td>\n",
       "      <td>employee</td>\n",
       "    </tr>\n",
       "    <tr>\n",
       "      <th>2</th>\n",
       "      <td>3</td>\n",
       "      <td>Ron</td>\n",
       "      <td>5000</td>\n",
       "      <td>Ron</td>\n",
       "      <td>intern</td>\n",
       "    </tr>\n",
       "    <tr>\n",
       "      <th>3</th>\n",
       "      <td>4</td>\n",
       "      <td>Harry</td>\n",
       "      <td>15000</td>\n",
       "      <td>Harry</td>\n",
       "      <td>senior_employee</td>\n",
       "    </tr>\n",
       "  </tbody>\n",
       "</table>\n",
       "</div>"
      ],
      "text/plain": [
       "   eid   ename  stipend_x stipend_y         position\n",
       "0    1     Sid      10000       Sid         employee\n",
       "1    2  Ramesh      10000    Ramesh         employee\n",
       "2    3     Ron       5000       Ron           intern\n",
       "3    4   Harry      15000     Harry  senior_employee"
      ]
     },
     "execution_count": 92,
     "metadata": {},
     "output_type": "execute_result"
    }
   ],
   "source": [
    "print(emp_data) # 1st DataFrame containing employee id (eid), employee name (ename) and stipend\n",
    "\n",
    "print()\n",
    "\n",
    "print(comp_data) # 2nd DataFrame containing employee id (eid) and designation of the employee (position)\n",
    "\n",
    "print()\n",
    "\n",
    "dataframe = pd.merge(emp_data,comp_data,how='inner', on = 'eid') # required dataframe\n",
    "dataframe\n"
   ]
  },
  {
   "cell_type": "markdown",
   "id": "3f8842a6",
   "metadata": {},
   "source": [
    "EXERCISE 19 - Getting the Non-Null Count and Data Type for Every Column"
   ]
  },
  {
   "cell_type": "markdown",
   "id": "7bb0d585",
   "metadata": {},
   "source": [
    "Given a dataframe, output the non-null count and data-type for every column"
   ]
  },
  {
   "cell_type": "code",
   "execution_count": 95,
   "id": "0567920f",
   "metadata": {},
   "outputs": [
    {
     "name": "stdout",
     "output_type": "stream",
     "text": [
      "\n",
      "<class 'pandas.core.frame.DataFrame'>\n",
      "Int64Index: 4 entries, 0 to 3\n",
      "Data columns (total 5 columns):\n",
      " #   Column     Non-Null Count  Dtype \n",
      "---  ------     --------------  ----- \n",
      " 0   eid        4 non-null      int64 \n",
      " 1   ename      4 non-null      object\n",
      " 2   stipend_x  4 non-null      int64 \n",
      " 3   stipend_y  4 non-null      object\n",
      " 4   position   4 non-null      object\n",
      "dtypes: int64(2), object(3)\n",
      "memory usage: 192.0+ bytes\n",
      "None\n"
     ]
    }
   ],
   "source": [
    "print(dataframe)\n",
    "\n",
    "print()\n",
    "print(dataframe.info())"
   ]
  },
  {
   "cell_type": "markdown",
   "id": "3780b4f4",
   "metadata": {},
   "source": [
    "EXERCISE 20 - Getting the Statistical Summary of all the Numerical Features of a DataFrame"
   ]
  },
  {
   "cell_type": "markdown",
   "id": "521e0fee",
   "metadata": {},
   "source": [
    "Given a dataframe, generate the statistical summary of all the numerical features present in it"
   ]
  },
  {
   "cell_type": "code",
   "execution_count": 96,
   "id": "5c603c63",
   "metadata": {},
   "outputs": [
    {
     "name": "stdout",
     "output_type": "stream",
     "text": [
      "   eid   ename  stipend_x stipend_y         position\n",
      "0    1     Sid      10000       Sid         employee\n",
      "1    2  Ramesh      10000    Ramesh         employee\n",
      "2    3     Ron       5000       Ron           intern\n",
      "3    4   Harry      15000     Harry  senior_employee\n",
      "\n",
      "            eid     stipend_x\n",
      "count  4.000000      4.000000\n",
      "mean   2.500000  10000.000000\n",
      "std    1.290994   4082.482905\n",
      "min    1.000000   5000.000000\n",
      "25%    1.750000   8750.000000\n",
      "50%    2.500000  10000.000000\n",
      "75%    3.250000  11250.000000\n",
      "max    4.000000  15000.000000\n"
     ]
    }
   ],
   "source": [
    "print(dataframe)\n",
    "print()\n",
    "print(dataframe.describe())"
   ]
  }
 ],
 "metadata": {
  "kernelspec": {
   "display_name": "Python 3 (ipykernel)",
   "language": "python",
   "name": "python3"
  },
  "language_info": {
   "codemirror_mode": {
    "name": "ipython",
    "version": 3
   },
   "file_extension": ".py",
   "mimetype": "text/x-python",
   "name": "python",
   "nbconvert_exporter": "python",
   "pygments_lexer": "ipython3",
   "version": "3.9.12"
  }
 },
 "nbformat": 4,
 "nbformat_minor": 5
}
