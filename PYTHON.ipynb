{
 "cells": [
  {
   "cell_type": "markdown",
   "id": "2ffaf5fb",
   "metadata": {},
   "source": [
    "Use for, .split(), and if to create a Statement that will print out words that start with 's':"
   ]
  },
  {
   "cell_type": "code",
   "execution_count": 1,
   "id": "5764080a",
   "metadata": {},
   "outputs": [],
   "source": [
    "st = 'Print only the words that start with s in this sentence'"
   ]
  },
  {
   "cell_type": "code",
   "execution_count": 9,
   "id": "2370632d",
   "metadata": {},
   "outputs": [
    {
     "name": "stdout",
     "output_type": "stream",
     "text": [
      "start\n",
      "s\n",
      "sentence\n"
     ]
    }
   ],
   "source": [
    "for x in st.split():\n",
    "    if x[0] == 's':\n",
    "        print(x)"
   ]
  },
  {
   "cell_type": "markdown",
   "id": "d13af31f",
   "metadata": {},
   "source": [
    "Use range() to print all the even numbers from 0 to 10."
   ]
  },
  {
   "cell_type": "code",
   "execution_count": 10,
   "id": "6c2fbb42",
   "metadata": {},
   "outputs": [
    {
     "name": "stdout",
     "output_type": "stream",
     "text": [
      "0\n",
      "2\n",
      "4\n",
      "6\n",
      "8\n",
      "10\n"
     ]
    }
   ],
   "source": [
    "for x in range(0,11):\n",
    "    if x % 2 == 0:\n",
    "        print(x)"
   ]
  },
  {
   "cell_type": "markdown",
   "id": "a4bbd45e",
   "metadata": {},
   "source": [
    "Alternative Solution 1"
   ]
  },
  {
   "cell_type": "code",
   "execution_count": 12,
   "id": "d8002593",
   "metadata": {},
   "outputs": [
    {
     "data": {
      "text/plain": [
       "[0, 2, 4, 6, 8, 10]"
      ]
     },
     "execution_count": 12,
     "metadata": {},
     "output_type": "execute_result"
    }
   ],
   "source": [
    "even = [num for num in range(0,11,2)]\n",
    "even"
   ]
  },
  {
   "cell_type": "markdown",
   "id": "09771410",
   "metadata": {},
   "source": [
    "Alternative Solution 2"
   ]
  },
  {
   "cell_type": "code",
   "execution_count": 14,
   "id": "8c22135a",
   "metadata": {},
   "outputs": [
    {
     "data": {
      "text/plain": [
       "[0, 2, 4, 6, 8, 10]"
      ]
     },
     "execution_count": 14,
     "metadata": {},
     "output_type": "execute_result"
    }
   ],
   "source": [
    "even = [num for num in range(0,11) if num % 2 == 0]\n",
    "even"
   ]
  },
  {
   "cell_type": "markdown",
   "id": "b31e09db",
   "metadata": {},
   "source": [
    "Alternative Solution 3"
   ]
  },
  {
   "cell_type": "code",
   "execution_count": 15,
   "id": "1068c557",
   "metadata": {},
   "outputs": [
    {
     "data": {
      "text/plain": [
       "[0, 2, 4, 6, 8, 10]"
      ]
     },
     "execution_count": 15,
     "metadata": {},
     "output_type": "execute_result"
    }
   ],
   "source": [
    "list(range(0,11,2))"
   ]
  },
  {
   "cell_type": "markdown",
   "id": "42b13d9a",
   "metadata": {},
   "source": [
    "Use a List Comprehension to create a list of all numbers between 1 and 50 that are divisible by 3."
   ]
  },
  {
   "cell_type": "code",
   "execution_count": 16,
   "id": "b5dae36a",
   "metadata": {},
   "outputs": [
    {
     "data": {
      "text/plain": [
       "[3, 6, 9, 12, 15, 18, 21, 24, 27, 30, 33, 36, 39, 42, 45, 48]"
      ]
     },
     "execution_count": 16,
     "metadata": {},
     "output_type": "execute_result"
    }
   ],
   "source": [
    "three = [num for num in range(1,51) if num % 3 == 0]\n",
    "three"
   ]
  },
  {
   "cell_type": "markdown",
   "id": "eaaf7f4a",
   "metadata": {},
   "source": [
    "Go through the string below and if the length of a word is even print \"even!\""
   ]
  },
  {
   "cell_type": "code",
   "execution_count": 17,
   "id": "ceef7231",
   "metadata": {},
   "outputs": [],
   "source": [
    "st = 'Print every word in this sentence that has an even number of letters'"
   ]
  },
  {
   "cell_type": "code",
   "execution_count": 19,
   "id": "c0ffddc7",
   "metadata": {},
   "outputs": [
    {
     "name": "stdout",
     "output_type": "stream",
     "text": [
      "word <-- has even! length\n",
      "in <-- has even! length\n",
      "this <-- has even! length\n",
      "sentence <-- has even! length\n",
      "that <-- has even! length\n",
      "an <-- has even! length\n",
      "even <-- has even! length\n",
      "number <-- has even! length\n",
      "of <-- has even! length\n"
     ]
    }
   ],
   "source": [
    "for word_even in st.split():\n",
    "    if len(word_even) % 2 == 0:\n",
    "        print(f\"{word_even} <-- has even! length\")"
   ]
  },
  {
   "cell_type": "markdown",
   "id": "d0724e45",
   "metadata": {},
   "source": [
    "Write a program that prints the integers from 1 to 100. But for multiples of three print \"Fizz\" instead of the number, and for the multiples of five print \"Buzz\". For numbers which are multiples of both three and five print \"FizzBuzz\"."
   ]
  },
  {
   "cell_type": "code",
   "execution_count": 21,
   "id": "d5639b7a",
   "metadata": {},
   "outputs": [
    {
     "name": "stdout",
     "output_type": "stream",
     "text": [
      "1\n",
      "2\n",
      "Fizz\n",
      "4\n",
      "Buzz\n",
      "Fizz\n",
      "7\n",
      "8\n",
      "Fizz\n",
      "Buzz\n",
      "11\n",
      "Fizz\n",
      "13\n",
      "14\n",
      "Fizz\n",
      "16\n",
      "17\n",
      "Fizz\n",
      "19\n",
      "Buzz\n",
      "Fizz\n",
      "22\n",
      "23\n",
      "Fizz\n",
      "Buzz\n",
      "26\n",
      "Fizz\n",
      "28\n",
      "29\n",
      "Fizz\n",
      "31\n",
      "32\n",
      "Fizz\n",
      "34\n",
      "Buzz\n",
      "Fizz\n",
      "37\n",
      "38\n",
      "Fizz\n",
      "Buzz\n",
      "41\n",
      "Fizz\n",
      "43\n",
      "44\n",
      "Fizz\n",
      "46\n",
      "47\n",
      "Fizz\n",
      "49\n",
      "Buzz\n",
      "Fizz\n",
      "52\n",
      "53\n",
      "Fizz\n",
      "Buzz\n",
      "56\n",
      "Fizz\n",
      "58\n",
      "59\n",
      "Fizz\n",
      "61\n",
      "62\n",
      "Fizz\n",
      "64\n",
      "Buzz\n",
      "Fizz\n",
      "67\n",
      "68\n",
      "Fizz\n",
      "Buzz\n",
      "71\n",
      "Fizz\n",
      "73\n",
      "74\n",
      "Fizz\n",
      "76\n",
      "77\n",
      "Fizz\n",
      "79\n",
      "Buzz\n",
      "Fizz\n",
      "82\n",
      "83\n",
      "Fizz\n",
      "Buzz\n",
      "86\n",
      "Fizz\n",
      "88\n",
      "89\n",
      "Fizz\n",
      "91\n",
      "92\n",
      "Fizz\n",
      "94\n",
      "Buzz\n",
      "Fizz\n",
      "97\n",
      "98\n",
      "Fizz\n",
      "Buzz\n"
     ]
    }
   ],
   "source": [
    "for num in range(1,101):\n",
    "    if num % 3 == 0:\n",
    "        print(\"Fizz\")\n",
    "    elif num % 5 == 0:\n",
    "        print(\"Buzz\")\n",
    "    elif num % 3 == 0 and num % 5 == 0:\n",
    "        print(\"FizzBuzz\")\n",
    "    else:\n",
    "        print(num)"
   ]
  },
  {
   "cell_type": "markdown",
   "id": "be5aea7b",
   "metadata": {},
   "source": [
    "Use List Comprehension to create a list of the first letters of every word in the string below:"
   ]
  },
  {
   "cell_type": "code",
   "execution_count": 22,
   "id": "c587b792",
   "metadata": {},
   "outputs": [],
   "source": [
    "st = 'Create a list of the first letters of every word in this string'"
   ]
  },
  {
   "cell_type": "code",
   "execution_count": 24,
   "id": "01f82ca8",
   "metadata": {},
   "outputs": [
    {
     "data": {
      "text/plain": [
       "['C', 'a', 'l', 'o', 't', 'f', 'l', 'o', 'e', 'w', 'i', 't', 's']"
      ]
     },
     "execution_count": 24,
     "metadata": {},
     "output_type": "execute_result"
    }
   ],
   "source": [
    "compr = [word[0] for word in st.split()]\n",
    "compr"
   ]
  }
 ],
 "metadata": {
  "kernelspec": {
   "display_name": "Python 3 (ipykernel)",
   "language": "python",
   "name": "python3"
  },
  "language_info": {
   "codemirror_mode": {
    "name": "ipython",
    "version": 3
   },
   "file_extension": ".py",
   "mimetype": "text/x-python",
   "name": "python",
   "nbconvert_exporter": "python",
   "pygments_lexer": "ipython3",
   "version": "3.9.12"
  }
 },
 "nbformat": 4,
 "nbformat_minor": 5
}
