{
 "cells": [
  {
   "cell_type": "markdown",
   "id": "8b2a0df8",
   "metadata": {},
   "source": [
    "ASSET TRACKING"
   ]
  },
  {
   "cell_type": "code",
   "execution_count": 42,
   "id": "137f61c2",
   "metadata": {},
   "outputs": [],
   "source": [
    "import pandas as pd"
   ]
  },
  {
   "cell_type": "code",
   "execution_count": 98,
   "id": "57ed884d",
   "metadata": {},
   "outputs": [],
   "source": [
    "df = pd.read_csv('QR Code.csv')"
   ]
  },
  {
   "cell_type": "code",
   "execution_count": 99,
   "id": "2d57b865",
   "metadata": {},
   "outputs": [
    {
     "data": {
      "text/html": [
       "<div>\n",
       "<style scoped>\n",
       "    .dataframe tbody tr th:only-of-type {\n",
       "        vertical-align: middle;\n",
       "    }\n",
       "\n",
       "    .dataframe tbody tr th {\n",
       "        vertical-align: top;\n",
       "    }\n",
       "\n",
       "    .dataframe thead th {\n",
       "        text-align: right;\n",
       "    }\n",
       "</style>\n",
       "<table border=\"1\" class=\"dataframe\">\n",
       "  <thead>\n",
       "    <tr style=\"text-align: right;\">\n",
       "      <th></th>\n",
       "      <th>barcode</th>\n",
       "      <th>qrcode</th>\n",
       "      <th>url</th>\n",
       "    </tr>\n",
       "  </thead>\n",
       "  <tbody>\n",
       "    <tr>\n",
       "      <th>0</th>\n",
       "      <td>ABLATX</td>\n",
       "      <td>ABLATX</td>\n",
       "      <td>https://kop0.com/</td>\n",
       "    </tr>\n",
       "    <tr>\n",
       "      <th>1</th>\n",
       "      <td>ABLATY</td>\n",
       "      <td>ABLATY</td>\n",
       "      <td>https://kop0.com/</td>\n",
       "    </tr>\n",
       "    <tr>\n",
       "      <th>2</th>\n",
       "      <td>ABLATZ</td>\n",
       "      <td>ABLATZ</td>\n",
       "      <td>https://kop0.com/</td>\n",
       "    </tr>\n",
       "    <tr>\n",
       "      <th>3</th>\n",
       "      <td>ABLAT2</td>\n",
       "      <td>ABLAT2</td>\n",
       "      <td>https://kop0.com/</td>\n",
       "    </tr>\n",
       "    <tr>\n",
       "      <th>4</th>\n",
       "      <td>ABLAT3</td>\n",
       "      <td>ABLAT3</td>\n",
       "      <td>https://kop0.com/</td>\n",
       "    </tr>\n",
       "  </tbody>\n",
       "</table>\n",
       "</div>"
      ],
      "text/plain": [
       "  barcode  qrcode                url\n",
       "0  ABLATX  ABLATX  https://kop0.com/\n",
       "1  ABLATY  ABLATY  https://kop0.com/\n",
       "2  ABLATZ  ABLATZ  https://kop0.com/\n",
       "3  ABLAT2  ABLAT2  https://kop0.com/\n",
       "4  ABLAT3  ABLAT3  https://kop0.com/"
      ]
     },
     "execution_count": 99,
     "metadata": {},
     "output_type": "execute_result"
    }
   ],
   "source": [
    "df.head()"
   ]
  },
  {
   "cell_type": "markdown",
   "id": "1c525348",
   "metadata": {},
   "source": [
    "Concatenate  url and qrcode"
   ]
  },
  {
   "cell_type": "code",
   "execution_count": 100,
   "id": "6b5e9ee0",
   "metadata": {},
   "outputs": [],
   "source": [
    "new = df['qrcode'].copy()"
   ]
  },
  {
   "cell_type": "markdown",
   "id": "d86e7e9b",
   "metadata": {},
   "source": [
    "Concatenate values from first string"
   ]
  },
  {
   "cell_type": "code",
   "execution_count": 101,
   "id": "dc4a8b96",
   "metadata": {},
   "outputs": [],
   "source": [
    "df['url'] = df['url'].str.cat(new)"
   ]
  },
  {
   "cell_type": "code",
   "execution_count": 102,
   "id": "ed8f1c01",
   "metadata": {},
   "outputs": [
    {
     "data": {
      "text/html": [
       "<div>\n",
       "<style scoped>\n",
       "    .dataframe tbody tr th:only-of-type {\n",
       "        vertical-align: middle;\n",
       "    }\n",
       "\n",
       "    .dataframe tbody tr th {\n",
       "        vertical-align: top;\n",
       "    }\n",
       "\n",
       "    .dataframe thead th {\n",
       "        text-align: right;\n",
       "    }\n",
       "</style>\n",
       "<table border=\"1\" class=\"dataframe\">\n",
       "  <thead>\n",
       "    <tr style=\"text-align: right;\">\n",
       "      <th></th>\n",
       "      <th>qrcode</th>\n",
       "      <th>url</th>\n",
       "    </tr>\n",
       "  </thead>\n",
       "  <tbody>\n",
       "    <tr>\n",
       "      <th>0</th>\n",
       "      <td>ABLATX</td>\n",
       "      <td>https://kop0.com/ABLATX</td>\n",
       "    </tr>\n",
       "    <tr>\n",
       "      <th>1</th>\n",
       "      <td>ABLATY</td>\n",
       "      <td>https://kop0.com/ABLATY</td>\n",
       "    </tr>\n",
       "    <tr>\n",
       "      <th>2</th>\n",
       "      <td>ABLATZ</td>\n",
       "      <td>https://kop0.com/ABLATZ</td>\n",
       "    </tr>\n",
       "    <tr>\n",
       "      <th>3</th>\n",
       "      <td>ABLAT2</td>\n",
       "      <td>https://kop0.com/ABLAT2</td>\n",
       "    </tr>\n",
       "    <tr>\n",
       "      <th>4</th>\n",
       "      <td>ABLAT3</td>\n",
       "      <td>https://kop0.com/ABLAT3</td>\n",
       "    </tr>\n",
       "    <tr>\n",
       "      <th>...</th>\n",
       "      <td>...</td>\n",
       "      <td>...</td>\n",
       "    </tr>\n",
       "    <tr>\n",
       "      <th>145452</th>\n",
       "      <td>ABRNFC</td>\n",
       "      <td>https://kop0.com/ABRNFC</td>\n",
       "    </tr>\n",
       "    <tr>\n",
       "      <th>145453</th>\n",
       "      <td>ABRNFD</td>\n",
       "      <td>https://kop0.com/ABRNFD</td>\n",
       "    </tr>\n",
       "    <tr>\n",
       "      <th>145454</th>\n",
       "      <td>ABRNFE</td>\n",
       "      <td>https://kop0.com/ABRNFE</td>\n",
       "    </tr>\n",
       "    <tr>\n",
       "      <th>145455</th>\n",
       "      <td>ABRNFF</td>\n",
       "      <td>https://kop0.com/ABRNFF</td>\n",
       "    </tr>\n",
       "    <tr>\n",
       "      <th>145456</th>\n",
       "      <td>ABRNFG</td>\n",
       "      <td>https://kop0.com/ABRNFG</td>\n",
       "    </tr>\n",
       "  </tbody>\n",
       "</table>\n",
       "<p>145457 rows × 2 columns</p>\n",
       "</div>"
      ],
      "text/plain": [
       "        qrcode                      url\n",
       "0       ABLATX  https://kop0.com/ABLATX\n",
       "1       ABLATY  https://kop0.com/ABLATY\n",
       "2       ABLATZ  https://kop0.com/ABLATZ\n",
       "3       ABLAT2  https://kop0.com/ABLAT2\n",
       "4       ABLAT3  https://kop0.com/ABLAT3\n",
       "...        ...                      ...\n",
       "145452  ABRNFC  https://kop0.com/ABRNFC\n",
       "145453  ABRNFD  https://kop0.com/ABRNFD\n",
       "145454  ABRNFE  https://kop0.com/ABRNFE\n",
       "145455  ABRNFF  https://kop0.com/ABRNFF\n",
       "145456  ABRNFG  https://kop0.com/ABRNFG\n",
       "\n",
       "[145457 rows x 2 columns]"
      ]
     },
     "execution_count": 102,
     "metadata": {},
     "output_type": "execute_result"
    }
   ],
   "source": [
    "df.drop(columns=['barcode'])"
   ]
  },
  {
   "cell_type": "code",
   "execution_count": 108,
   "id": "0d32d991",
   "metadata": {},
   "outputs": [],
   "source": [
    "df.rename(columns={'url':'barcode'},inplace = True)"
   ]
  },
  {
   "cell_type": "code",
   "execution_count": null,
   "id": "590cd2fe",
   "metadata": {},
   "outputs": [],
   "source": [
    "View updated columns"
   ]
  },
  {
   "cell_type": "code",
   "execution_count": 110,
   "id": "b7897864",
   "metadata": {},
   "outputs": [
    {
     "data": {
      "text/plain": [
       "['barcode', 'qrcode', 'barcode']"
      ]
     },
     "execution_count": 110,
     "metadata": {},
     "output_type": "execute_result"
    }
   ],
   "source": [
    "list(df)"
   ]
  },
  {
   "cell_type": "code",
   "execution_count": 111,
   "id": "fed33ad4",
   "metadata": {},
   "outputs": [
    {
     "data": {
      "text/html": [
       "<div>\n",
       "<style scoped>\n",
       "    .dataframe tbody tr th:only-of-type {\n",
       "        vertical-align: middle;\n",
       "    }\n",
       "\n",
       "    .dataframe tbody tr th {\n",
       "        vertical-align: top;\n",
       "    }\n",
       "\n",
       "    .dataframe thead th {\n",
       "        text-align: right;\n",
       "    }\n",
       "</style>\n",
       "<table border=\"1\" class=\"dataframe\">\n",
       "  <thead>\n",
       "    <tr style=\"text-align: right;\">\n",
       "      <th></th>\n",
       "      <th>barcode</th>\n",
       "      <th>qrcode</th>\n",
       "      <th>barcode</th>\n",
       "    </tr>\n",
       "  </thead>\n",
       "  <tbody>\n",
       "    <tr>\n",
       "      <th>145452</th>\n",
       "      <td>ABRNFC</td>\n",
       "      <td>ABRNFC</td>\n",
       "      <td>https://kop0.com/ABRNFC</td>\n",
       "    </tr>\n",
       "    <tr>\n",
       "      <th>145453</th>\n",
       "      <td>ABRNFD</td>\n",
       "      <td>ABRNFD</td>\n",
       "      <td>https://kop0.com/ABRNFD</td>\n",
       "    </tr>\n",
       "    <tr>\n",
       "      <th>145454</th>\n",
       "      <td>ABRNFE</td>\n",
       "      <td>ABRNFE</td>\n",
       "      <td>https://kop0.com/ABRNFE</td>\n",
       "    </tr>\n",
       "    <tr>\n",
       "      <th>145455</th>\n",
       "      <td>ABRNFF</td>\n",
       "      <td>ABRNFF</td>\n",
       "      <td>https://kop0.com/ABRNFF</td>\n",
       "    </tr>\n",
       "    <tr>\n",
       "      <th>145456</th>\n",
       "      <td>ABRNFG</td>\n",
       "      <td>ABRNFG</td>\n",
       "      <td>https://kop0.com/ABRNFG</td>\n",
       "    </tr>\n",
       "  </tbody>\n",
       "</table>\n",
       "</div>"
      ],
      "text/plain": [
       "       barcode  qrcode                  barcode\n",
       "145452  ABRNFC  ABRNFC  https://kop0.com/ABRNFC\n",
       "145453  ABRNFD  ABRNFD  https://kop0.com/ABRNFD\n",
       "145454  ABRNFE  ABRNFE  https://kop0.com/ABRNFE\n",
       "145455  ABRNFF  ABRNFF  https://kop0.com/ABRNFF\n",
       "145456  ABRNFG  ABRNFG  https://kop0.com/ABRNFG"
      ]
     },
     "execution_count": 111,
     "metadata": {},
     "output_type": "execute_result"
    }
   ],
   "source": [
    "df.to_csv('new_qrcode2.csv')\n",
    "df.tail()"
   ]
  }
 ],
 "metadata": {
  "kernelspec": {
   "display_name": "Python 3 (ipykernel)",
   "language": "python",
   "name": "python3"
  },
  "language_info": {
   "codemirror_mode": {
    "name": "ipython",
    "version": 3
   },
   "file_extension": ".py",
   "mimetype": "text/x-python",
   "name": "python",
   "nbconvert_exporter": "python",
   "pygments_lexer": "ipython3",
   "version": "3.9.12"
  }
 },
 "nbformat": 4,
 "nbformat_minor": 5
}
