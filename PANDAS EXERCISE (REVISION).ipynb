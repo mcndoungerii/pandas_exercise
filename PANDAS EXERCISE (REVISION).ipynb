{
 "cells": [
  {
   "cell_type": "markdown",
   "id": "1e6ffd9d",
   "metadata": {},
   "source": [
    "PANDAS EXERCISE (REVISION)"
   ]
  },
  {
   "cell_type": "code",
   "execution_count": 2,
   "id": "2f8342da",
   "metadata": {},
   "outputs": [],
   "source": [
    "import pandas as pd"
   ]
  },
  {
   "cell_type": "markdown",
   "id": "238341f4",
   "metadata": {},
   "source": [
    "EXERCISE 1 - List-to-Series Conversion"
   ]
  },
  {
   "cell_type": "code",
   "execution_count": 9,
   "id": "cfae00b3",
   "metadata": {},
   "outputs": [
    {
     "name": "stdout",
     "output_type": "stream",
     "text": [
      "0    2\n",
      "1    4\n",
      "2    5\n",
      "3    6\n",
      "4    9\n",
      "dtype: int64\n"
     ]
    }
   ],
   "source": [
    "given = [2,4,5,6,9]\n",
    "\n",
    "series = pd.Series(given)\n",
    "print(series)"
   ]
  },
  {
   "cell_type": "markdown",
   "id": "6667235f",
   "metadata": {},
   "source": [
    "EXERCISE 2 - List-to-Series Conversion with Custom Indexing"
   ]
  },
  {
   "cell_type": "code",
   "execution_count": 11,
   "id": "6717b8c9",
   "metadata": {},
   "outputs": [
    {
     "data": {
      "text/plain": [
       "1    2\n",
       "3    4\n",
       "4    5\n",
       "7    6\n",
       "8    9\n",
       "dtype: int64"
      ]
     },
     "execution_count": 11,
     "metadata": {},
     "output_type": "execute_result"
    }
   ],
   "source": [
    "given = [2,4,5,6,9]\n",
    "\n",
    "series = pd.Series(given, index=[1,3,4,7,8])\n",
    "series"
   ]
  },
  {
   "cell_type": "markdown",
   "id": "add192d2",
   "metadata": {},
   "source": [
    "EXERCISE 3 - Date Series Generation"
   ]
  },
  {
   "cell_type": "code",
   "execution_count": 16,
   "id": "2aad89b2",
   "metadata": {},
   "outputs": [
    {
     "data": {
      "text/plain": [
       "DatetimeIndex(['2022-01-11', '2022-01-12', '2022-01-13', '2022-01-14',\n",
       "               '2022-01-15', '2022-01-16', '2022-01-17', '2022-01-18',\n",
       "               '2022-01-19', '2022-01-20',\n",
       "               ...\n",
       "               '2022-11-06', '2022-11-07', '2022-11-08', '2022-11-09',\n",
       "               '2022-11-10', '2022-11-11', '2022-11-12', '2022-11-13',\n",
       "               '2022-11-14', '2022-11-15'],\n",
       "              dtype='datetime64[ns]', length=309, freq='D')"
      ]
     },
     "execution_count": 16,
     "metadata": {},
     "output_type": "execute_result"
    }
   ],
   "source": [
    "data_series = pd.date_range(start='01-11-2022',end='15-11-2022')\n",
    "data_series"
   ]
  },
  {
   "cell_type": "markdown",
   "id": "743b6ded",
   "metadata": {},
   "source": [
    "EXERCISE 4 - Implementing a function on each and every element of a series"
   ]
  },
  {
   "cell_type": "code",
   "execution_count": 17,
   "id": "8ed2bf71",
   "metadata": {},
   "outputs": [
    {
     "name": "stdout",
     "output_type": "stream",
     "text": [
      "0     2\n",
      "1     4\n",
      "2     6\n",
      "3     8\n",
      "4    10\n",
      "dtype: int64\n"
     ]
    },
    {
     "data": {
      "text/plain": [
       "0    1.0\n",
       "1    2.0\n",
       "2    3.0\n",
       "3    4.0\n",
       "4    5.0\n",
       "dtype: float64"
      ]
     },
     "execution_count": 17,
     "metadata": {},
     "output_type": "execute_result"
    }
   ],
   "source": [
    "series = pd.Series([2,4,6,8,10])\n",
    "print(series)\n",
    "\n",
    "modified_series = series.apply(lambda x:x/2)\n",
    "modified_series\n"
   ]
  },
  {
   "cell_type": "markdown",
   "id": "185b5a01",
   "metadata": {},
   "source": [
    "EXERCISE 5 - Dictionary-to-Dataframe Conversion"
   ]
  },
  {
   "cell_type": "code",
   "execution_count": 55,
   "id": "0b091646",
   "metadata": {},
   "outputs": [
    {
     "data": {
      "text/html": [
       "<div>\n",
       "<style scoped>\n",
       "    .dataframe tbody tr th:only-of-type {\n",
       "        vertical-align: middle;\n",
       "    }\n",
       "\n",
       "    .dataframe tbody tr th {\n",
       "        vertical-align: top;\n",
       "    }\n",
       "\n",
       "    .dataframe thead th {\n",
       "        text-align: right;\n",
       "    }\n",
       "</style>\n",
       "<table border=\"1\" class=\"dataframe\">\n",
       "  <thead>\n",
       "    <tr style=\"text-align: right;\">\n",
       "      <th></th>\n",
       "      <th>name</th>\n",
       "      <th>age</th>\n",
       "      <th>occ</th>\n",
       "      <th>salary</th>\n",
       "    </tr>\n",
       "  </thead>\n",
       "  <tbody>\n",
       "    <tr>\n",
       "      <th>0</th>\n",
       "      <td>Vinay</td>\n",
       "      <td>22</td>\n",
       "      <td>engineer</td>\n",
       "      <td>60000</td>\n",
       "    </tr>\n",
       "    <tr>\n",
       "      <th>1</th>\n",
       "      <td>Kushal</td>\n",
       "      <td>25</td>\n",
       "      <td>doctor</td>\n",
       "      <td>70000</td>\n",
       "    </tr>\n",
       "    <tr>\n",
       "      <th>2</th>\n",
       "      <td>Aman</td>\n",
       "      <td>24</td>\n",
       "      <td>accountant</td>\n",
       "      <td>50000</td>\n",
       "    </tr>\n",
       "    <tr>\n",
       "      <th>3</th>\n",
       "      <td>Rahul</td>\n",
       "      <td>28</td>\n",
       "      <td>doctor</td>\n",
       "      <td>60000</td>\n",
       "    </tr>\n",
       "    <tr>\n",
       "      <th>4</th>\n",
       "      <td>Ramesh</td>\n",
       "      <td>27</td>\n",
       "      <td>doctor</td>\n",
       "      <td>65000</td>\n",
       "    </tr>\n",
       "  </tbody>\n",
       "</table>\n",
       "</div>"
      ],
      "text/plain": [
       "     name  age         occ  salary\n",
       "0   Vinay   22    engineer   60000\n",
       "1  Kushal   25      doctor   70000\n",
       "2    Aman   24  accountant   50000\n",
       "3   Rahul   28      doctor   60000\n",
       "4  Ramesh   27      doctor   65000"
      ]
     },
     "execution_count": 55,
     "metadata": {},
     "output_type": "execute_result"
    }
   ],
   "source": [
    "dict_ = {'name':['Vinay', 'Kushal', 'Aman','Rahul','Ramesh'],\n",
    "        'age':[22, 25, 24,28,27],\n",
    "        'occ':['engineer', 'doctor', 'accountant','doctor','doctor'],\n",
    "        'salary':[60000,70000,50000,60000,65000]}\n",
    "\n",
    "dfz = pd.DataFrame(dict_)\n",
    "dfz"
   ]
  },
  {
   "cell_type": "markdown",
   "id": "206b8e11",
   "metadata": {},
   "source": [
    "EXERCISE 6 - 2D List-to-Dataframe Conversion"
   ]
  },
  {
   "cell_type": "code",
   "execution_count": 19,
   "id": "04a58b1a",
   "metadata": {},
   "outputs": [
    {
     "data": {
      "text/html": [
       "<div>\n",
       "<style scoped>\n",
       "    .dataframe tbody tr th:only-of-type {\n",
       "        vertical-align: middle;\n",
       "    }\n",
       "\n",
       "    .dataframe tbody tr th {\n",
       "        vertical-align: top;\n",
       "    }\n",
       "\n",
       "    .dataframe thead th {\n",
       "        text-align: right;\n",
       "    }\n",
       "</style>\n",
       "<table border=\"1\" class=\"dataframe\">\n",
       "  <thead>\n",
       "    <tr style=\"text-align: right;\">\n",
       "      <th></th>\n",
       "      <th>id</th>\n",
       "      <th>name</th>\n",
       "      <th>age</th>\n",
       "    </tr>\n",
       "  </thead>\n",
       "  <tbody>\n",
       "    <tr>\n",
       "      <th>0</th>\n",
       "      <td>2</td>\n",
       "      <td>Vishal</td>\n",
       "      <td>22</td>\n",
       "    </tr>\n",
       "    <tr>\n",
       "      <th>1</th>\n",
       "      <td>1</td>\n",
       "      <td>Kushal</td>\n",
       "      <td>25</td>\n",
       "    </tr>\n",
       "    <tr>\n",
       "      <th>2</th>\n",
       "      <td>1</td>\n",
       "      <td>Aman</td>\n",
       "      <td>24</td>\n",
       "    </tr>\n",
       "  </tbody>\n",
       "</table>\n",
       "</div>"
      ],
      "text/plain": [
       "   id    name  age\n",
       "0   2  Vishal   22\n",
       "1   1  Kushal   25\n",
       "2   1    Aman   24"
      ]
     },
     "execution_count": 19,
     "metadata": {},
     "output_type": "execute_result"
    }
   ],
   "source": [
    "list_ = [[2,'Vishal',22],\n",
    "         [1,'Kushal',25],[1,'Aman',24]]\n",
    "\n",
    "dfx = pd.DataFrame(list_, columns=['id','name','age'])\n",
    "dfx"
   ]
  },
  {
   "cell_type": "markdown",
   "id": "e0a18fff",
   "metadata": {},
   "source": [
    "EXERCISE 7 - Reading CSV to Dataframe"
   ]
  },
  {
   "cell_type": "code",
   "execution_count": 21,
   "id": "a1f88885",
   "metadata": {},
   "outputs": [
    {
     "data": {
      "text/html": [
       "<div>\n",
       "<style scoped>\n",
       "    .dataframe tbody tr th:only-of-type {\n",
       "        vertical-align: middle;\n",
       "    }\n",
       "\n",
       "    .dataframe tbody tr th {\n",
       "        vertical-align: top;\n",
       "    }\n",
       "\n",
       "    .dataframe thead th {\n",
       "        text-align: right;\n",
       "    }\n",
       "</style>\n",
       "<table border=\"1\" class=\"dataframe\">\n",
       "  <thead>\n",
       "    <tr style=\"text-align: right;\">\n",
       "      <th></th>\n",
       "      <th>qrcode</th>\n",
       "      <th>barcode</th>\n",
       "    </tr>\n",
       "  </thead>\n",
       "  <tbody>\n",
       "    <tr>\n",
       "      <th>145452</th>\n",
       "      <td>ABRNFC</td>\n",
       "      <td>https://kop0.com/ABRNFC</td>\n",
       "    </tr>\n",
       "    <tr>\n",
       "      <th>145453</th>\n",
       "      <td>ABRNFD</td>\n",
       "      <td>https://kop0.com/ABRNFD</td>\n",
       "    </tr>\n",
       "    <tr>\n",
       "      <th>145454</th>\n",
       "      <td>ABRNFE</td>\n",
       "      <td>https://kop0.com/ABRNFE</td>\n",
       "    </tr>\n",
       "    <tr>\n",
       "      <th>145455</th>\n",
       "      <td>ABRNFF</td>\n",
       "      <td>https://kop0.com/ABRNFF</td>\n",
       "    </tr>\n",
       "    <tr>\n",
       "      <th>145456</th>\n",
       "      <td>ABRNFG</td>\n",
       "      <td>https://kop0.com/ABRNFG</td>\n",
       "    </tr>\n",
       "  </tbody>\n",
       "</table>\n",
       "</div>"
      ],
      "text/plain": [
       "        qrcode                  barcode\n",
       "145452  ABRNFC  https://kop0.com/ABRNFC\n",
       "145453  ABRNFD  https://kop0.com/ABRNFD\n",
       "145454  ABRNFE  https://kop0.com/ABRNFE\n",
       "145455  ABRNFF  https://kop0.com/ABRNFF\n",
       "145456  ABRNFG  https://kop0.com/ABRNFG"
      ]
     },
     "execution_count": 21,
     "metadata": {},
     "output_type": "execute_result"
    }
   ],
   "source": [
    "dfc = pd.read_csv('new_qrcode2.csv')\n",
    "dfc.tail()"
   ]
  },
  {
   "cell_type": "markdown",
   "id": "d80ad204",
   "metadata": {},
   "source": [
    "EXERCISE 8 - Setting Custom Index in Dataframe"
   ]
  },
  {
   "cell_type": "code",
   "execution_count": 27,
   "id": "2fbd15a9",
   "metadata": {},
   "outputs": [
    {
     "name": "stdout",
     "output_type": "stream",
     "text": [
      "   id    name  age\n",
      "0   2  Vishal   22\n",
      "1   1  Kushal   25\n",
      "2   1    Aman   24\n",
      "\n"
     ]
    },
    {
     "data": {
      "text/html": [
       "<div>\n",
       "<style scoped>\n",
       "    .dataframe tbody tr th:only-of-type {\n",
       "        vertical-align: middle;\n",
       "    }\n",
       "\n",
       "    .dataframe tbody tr th {\n",
       "        vertical-align: top;\n",
       "    }\n",
       "\n",
       "    .dataframe thead th {\n",
       "        text-align: right;\n",
       "    }\n",
       "</style>\n",
       "<table border=\"1\" class=\"dataframe\">\n",
       "  <thead>\n",
       "    <tr style=\"text-align: right;\">\n",
       "      <th></th>\n",
       "      <th>name</th>\n",
       "      <th>age</th>\n",
       "    </tr>\n",
       "    <tr>\n",
       "      <th>id</th>\n",
       "      <th></th>\n",
       "      <th></th>\n",
       "    </tr>\n",
       "  </thead>\n",
       "  <tbody>\n",
       "    <tr>\n",
       "      <th>2</th>\n",
       "      <td>Vishal</td>\n",
       "      <td>22</td>\n",
       "    </tr>\n",
       "    <tr>\n",
       "      <th>1</th>\n",
       "      <td>Kushal</td>\n",
       "      <td>25</td>\n",
       "    </tr>\n",
       "    <tr>\n",
       "      <th>1</th>\n",
       "      <td>Aman</td>\n",
       "      <td>24</td>\n",
       "    </tr>\n",
       "  </tbody>\n",
       "</table>\n",
       "</div>"
      ],
      "text/plain": [
       "      name  age\n",
       "id             \n",
       "2   Vishal   22\n",
       "1   Kushal   25\n",
       "1     Aman   24"
      ]
     },
     "execution_count": 27,
     "metadata": {},
     "output_type": "execute_result"
    }
   ],
   "source": [
    "print(dfx.head())\n",
    "\n",
    "print()\n",
    "\n",
    "df_customindex = dfx.set_index('id')\n",
    "df_customindex"
   ]
  },
  {
   "cell_type": "markdown",
   "id": "934cb59e",
   "metadata": {},
   "source": [
    "EXERCISE 9 - Sorting a Dataframe by Index"
   ]
  },
  {
   "cell_type": "code",
   "execution_count": 29,
   "id": "85b1431f",
   "metadata": {},
   "outputs": [
    {
     "name": "stdout",
     "output_type": "stream",
     "text": [
      "      name  age\n",
      "id             \n",
      "2   Vishal   22\n",
      "1   Kushal   25\n",
      "1     Aman   24\n",
      "\n"
     ]
    },
    {
     "data": {
      "text/html": [
       "<div>\n",
       "<style scoped>\n",
       "    .dataframe tbody tr th:only-of-type {\n",
       "        vertical-align: middle;\n",
       "    }\n",
       "\n",
       "    .dataframe tbody tr th {\n",
       "        vertical-align: top;\n",
       "    }\n",
       "\n",
       "    .dataframe thead th {\n",
       "        text-align: right;\n",
       "    }\n",
       "</style>\n",
       "<table border=\"1\" class=\"dataframe\">\n",
       "  <thead>\n",
       "    <tr style=\"text-align: right;\">\n",
       "      <th></th>\n",
       "      <th>name</th>\n",
       "      <th>age</th>\n",
       "    </tr>\n",
       "    <tr>\n",
       "      <th>id</th>\n",
       "      <th></th>\n",
       "      <th></th>\n",
       "    </tr>\n",
       "  </thead>\n",
       "  <tbody>\n",
       "    <tr>\n",
       "      <th>1</th>\n",
       "      <td>Kushal</td>\n",
       "      <td>25</td>\n",
       "    </tr>\n",
       "    <tr>\n",
       "      <th>1</th>\n",
       "      <td>Aman</td>\n",
       "      <td>24</td>\n",
       "    </tr>\n",
       "    <tr>\n",
       "      <th>2</th>\n",
       "      <td>Vishal</td>\n",
       "      <td>22</td>\n",
       "    </tr>\n",
       "  </tbody>\n",
       "</table>\n",
       "</div>"
      ],
      "text/plain": [
       "      name  age\n",
       "id             \n",
       "1   Kushal   25\n",
       "1     Aman   24\n",
       "2   Vishal   22"
      ]
     },
     "execution_count": 29,
     "metadata": {},
     "output_type": "execute_result"
    }
   ],
   "source": [
    "print(df_customindex)\n",
    "print()\n",
    "df_sorted_customindex = df_customindex.sort_index()\n",
    "df_sorted_customindex"
   ]
  },
  {
   "cell_type": "markdown",
   "id": "170a1d8f",
   "metadata": {},
   "source": [
    "EXERCISE 10 - Sorting a Dataframe by Multiple Columns"
   ]
  },
  {
   "cell_type": "code",
   "execution_count": 31,
   "id": "0e6e6a8c",
   "metadata": {},
   "outputs": [
    {
     "name": "stdout",
     "output_type": "stream",
     "text": [
      "   id    name  age\n",
      "0   2  Vishal   22\n",
      "1   1  Kushal   25\n",
      "2   1    Aman   24\n",
      "\n"
     ]
    },
    {
     "data": {
      "text/html": [
       "<div>\n",
       "<style scoped>\n",
       "    .dataframe tbody tr th:only-of-type {\n",
       "        vertical-align: middle;\n",
       "    }\n",
       "\n",
       "    .dataframe tbody tr th {\n",
       "        vertical-align: top;\n",
       "    }\n",
       "\n",
       "    .dataframe thead th {\n",
       "        text-align: right;\n",
       "    }\n",
       "</style>\n",
       "<table border=\"1\" class=\"dataframe\">\n",
       "  <thead>\n",
       "    <tr style=\"text-align: right;\">\n",
       "      <th></th>\n",
       "      <th>id</th>\n",
       "      <th>name</th>\n",
       "      <th>age</th>\n",
       "    </tr>\n",
       "  </thead>\n",
       "  <tbody>\n",
       "    <tr>\n",
       "      <th>2</th>\n",
       "      <td>1</td>\n",
       "      <td>Aman</td>\n",
       "      <td>24</td>\n",
       "    </tr>\n",
       "    <tr>\n",
       "      <th>1</th>\n",
       "      <td>1</td>\n",
       "      <td>Kushal</td>\n",
       "      <td>25</td>\n",
       "    </tr>\n",
       "    <tr>\n",
       "      <th>0</th>\n",
       "      <td>2</td>\n",
       "      <td>Vishal</td>\n",
       "      <td>22</td>\n",
       "    </tr>\n",
       "  </tbody>\n",
       "</table>\n",
       "</div>"
      ],
      "text/plain": [
       "   id    name  age\n",
       "2   1    Aman   24\n",
       "1   1  Kushal   25\n",
       "0   2  Vishal   22"
      ]
     },
     "execution_count": 31,
     "metadata": {},
     "output_type": "execute_result"
    }
   ],
   "source": [
    "print(dfx) #original DF\n",
    "\n",
    "print()\n",
    "\n",
    "df_sort_multi_values = dfx.sort_values(by=['name','age'])\n",
    "df_sort_multi_values"
   ]
  },
  {
   "cell_type": "markdown",
   "id": "4d04d356",
   "metadata": {},
   "source": [
    "EXERCISE 11 - DataFrame with Custom Index to DataFrame with Dataframe with default indexes"
   ]
  },
  {
   "cell_type": "code",
   "execution_count": 33,
   "id": "90b6c846",
   "metadata": {},
   "outputs": [
    {
     "name": "stdout",
     "output_type": "stream",
     "text": [
      "      name  age\n",
      "id             \n",
      "2   Vishal   22\n",
      "1   Kushal   25\n",
      "1     Aman   24\n",
      "\n"
     ]
    },
    {
     "data": {
      "text/html": [
       "<div>\n",
       "<style scoped>\n",
       "    .dataframe tbody tr th:only-of-type {\n",
       "        vertical-align: middle;\n",
       "    }\n",
       "\n",
       "    .dataframe tbody tr th {\n",
       "        vertical-align: top;\n",
       "    }\n",
       "\n",
       "    .dataframe thead th {\n",
       "        text-align: right;\n",
       "    }\n",
       "</style>\n",
       "<table border=\"1\" class=\"dataframe\">\n",
       "  <thead>\n",
       "    <tr style=\"text-align: right;\">\n",
       "      <th></th>\n",
       "      <th>id</th>\n",
       "      <th>name</th>\n",
       "      <th>age</th>\n",
       "    </tr>\n",
       "  </thead>\n",
       "  <tbody>\n",
       "    <tr>\n",
       "      <th>0</th>\n",
       "      <td>2</td>\n",
       "      <td>Vishal</td>\n",
       "      <td>22</td>\n",
       "    </tr>\n",
       "    <tr>\n",
       "      <th>1</th>\n",
       "      <td>1</td>\n",
       "      <td>Kushal</td>\n",
       "      <td>25</td>\n",
       "    </tr>\n",
       "    <tr>\n",
       "      <th>2</th>\n",
       "      <td>1</td>\n",
       "      <td>Aman</td>\n",
       "      <td>24</td>\n",
       "    </tr>\n",
       "  </tbody>\n",
       "</table>\n",
       "</div>"
      ],
      "text/plain": [
       "   id    name  age\n",
       "0   2  Vishal   22\n",
       "1   1  Kushal   25\n",
       "2   1    Aman   24"
      ]
     },
     "execution_count": 33,
     "metadata": {},
     "output_type": "execute_result"
    }
   ],
   "source": [
    "print(df_customindex)\n",
    "print()\n",
    "df = df_customindex.reset_index()\n",
    "df"
   ]
  },
  {
   "cell_type": "markdown",
   "id": "697e2578",
   "metadata": {},
   "source": [
    "EXERCISE 12 - Indexing and Selecting Columns in a DataFrame"
   ]
  },
  {
   "cell_type": "code",
   "execution_count": 38,
   "id": "e9cfab87",
   "metadata": {},
   "outputs": [
    {
     "name": "stdout",
     "output_type": "stream",
     "text": [
      "   id    name  age\n",
      "0   2  Vishal   22\n",
      "1   1  Kushal   25\n",
      "2   1    Aman   24\n",
      "\n"
     ]
    },
    {
     "data": {
      "text/plain": [
       "0    Vishal\n",
       "1    Kushal\n",
       "2      Aman\n",
       "Name: name, dtype: object"
      ]
     },
     "execution_count": 38,
     "metadata": {},
     "output_type": "execute_result"
    }
   ],
   "source": [
    "print(df) # OG DF\n",
    "print()\n",
    "\n",
    "o = df['name']\n",
    "o"
   ]
  },
  {
   "cell_type": "markdown",
   "id": "8b6a7e52",
   "metadata": {},
   "source": [
    "Use iloc"
   ]
  },
  {
   "cell_type": "code",
   "execution_count": 39,
   "id": "0781c550",
   "metadata": {},
   "outputs": [
    {
     "name": "stdout",
     "output_type": "stream",
     "text": [
      "   id    name  age\n",
      "0   2  Vishal   22\n",
      "1   1  Kushal   25\n",
      "2   1    Aman   24\n",
      "\n"
     ]
    },
    {
     "data": {
      "text/plain": [
       "0    Vishal\n",
       "1    Kushal\n",
       "2      Aman\n",
       "Name: name, dtype: object"
      ]
     },
     "execution_count": 39,
     "metadata": {},
     "output_type": "execute_result"
    }
   ],
   "source": [
    "print(df)\n",
    "print()\n",
    "\n",
    "name = df.iloc[:,1]\n",
    "name"
   ]
  },
  {
   "cell_type": "markdown",
   "id": "a05ea21d",
   "metadata": {},
   "source": [
    "Use loc"
   ]
  },
  {
   "cell_type": "code",
   "execution_count": 40,
   "id": "22f5ad6a",
   "metadata": {},
   "outputs": [
    {
     "name": "stdout",
     "output_type": "stream",
     "text": [
      "   id    name  age\n",
      "0   2  Vishal   22\n",
      "1   1  Kushal   25\n",
      "2   1    Aman   24\n",
      "\n"
     ]
    },
    {
     "data": {
      "text/plain": [
       "0    Vishal\n",
       "1    Kushal\n",
       "2      Aman\n",
       "Name: name, dtype: object"
      ]
     },
     "execution_count": 40,
     "metadata": {},
     "output_type": "execute_result"
    }
   ],
   "source": [
    "print(df)\n",
    "print()\n",
    "\n",
    "name = df.loc[:,'name']\n",
    "name"
   ]
  },
  {
   "cell_type": "markdown",
   "id": "0470a218",
   "metadata": {},
   "source": [
    "EXERCISE 13 - Indexing and Selecting Rows in a DataFrame\n",
    "\n",
    "Given a dataframe, select first 2 rows and output them\n",
    "\n"
   ]
  },
  {
   "cell_type": "code",
   "execution_count": 43,
   "id": "df5ffd0f",
   "metadata": {},
   "outputs": [
    {
     "name": "stdout",
     "output_type": "stream",
     "text": [
      "   id    name  age\n",
      "0   2  Vishal   22\n",
      "1   1  Kushal   25\n",
      "2   1    Aman   24\n",
      "\n"
     ]
    },
    {
     "data": {
      "text/html": [
       "<div>\n",
       "<style scoped>\n",
       "    .dataframe tbody tr th:only-of-type {\n",
       "        vertical-align: middle;\n",
       "    }\n",
       "\n",
       "    .dataframe tbody tr th {\n",
       "        vertical-align: top;\n",
       "    }\n",
       "\n",
       "    .dataframe thead th {\n",
       "        text-align: right;\n",
       "    }\n",
       "</style>\n",
       "<table border=\"1\" class=\"dataframe\">\n",
       "  <thead>\n",
       "    <tr style=\"text-align: right;\">\n",
       "      <th></th>\n",
       "      <th>id</th>\n",
       "      <th>name</th>\n",
       "      <th>age</th>\n",
       "    </tr>\n",
       "  </thead>\n",
       "  <tbody>\n",
       "    <tr>\n",
       "      <th>0</th>\n",
       "      <td>2</td>\n",
       "      <td>Vishal</td>\n",
       "      <td>22</td>\n",
       "    </tr>\n",
       "    <tr>\n",
       "      <th>1</th>\n",
       "      <td>1</td>\n",
       "      <td>Kushal</td>\n",
       "      <td>25</td>\n",
       "    </tr>\n",
       "  </tbody>\n",
       "</table>\n",
       "</div>"
      ],
      "text/plain": [
       "   id    name  age\n",
       "0   2  Vishal   22\n",
       "1   1  Kushal   25"
      ]
     },
     "execution_count": 43,
     "metadata": {},
     "output_type": "execute_result"
    }
   ],
   "source": [
    "print(df)\n",
    "\n",
    "print()\n",
    "\n",
    "df_2_rows = df.iloc[:2,:]\n",
    "df_2_rows"
   ]
  },
  {
   "cell_type": "markdown",
   "id": "34e05d01",
   "metadata": {},
   "source": [
    "Alternative Solution"
   ]
  },
  {
   "cell_type": "code",
   "execution_count": 44,
   "id": "be27e09e",
   "metadata": {},
   "outputs": [
    {
     "name": "stdout",
     "output_type": "stream",
     "text": [
      "   id    name  age\n",
      "0   2  Vishal   22\n",
      "1   1  Kushal   25\n",
      "2   1    Aman   24\n",
      "\n"
     ]
    },
    {
     "data": {
      "text/html": [
       "<div>\n",
       "<style scoped>\n",
       "    .dataframe tbody tr th:only-of-type {\n",
       "        vertical-align: middle;\n",
       "    }\n",
       "\n",
       "    .dataframe tbody tr th {\n",
       "        vertical-align: top;\n",
       "    }\n",
       "\n",
       "    .dataframe thead th {\n",
       "        text-align: right;\n",
       "    }\n",
       "</style>\n",
       "<table border=\"1\" class=\"dataframe\">\n",
       "  <thead>\n",
       "    <tr style=\"text-align: right;\">\n",
       "      <th></th>\n",
       "      <th>id</th>\n",
       "      <th>name</th>\n",
       "      <th>age</th>\n",
       "    </tr>\n",
       "  </thead>\n",
       "  <tbody>\n",
       "    <tr>\n",
       "      <th>0</th>\n",
       "      <td>2</td>\n",
       "      <td>Vishal</td>\n",
       "      <td>22</td>\n",
       "    </tr>\n",
       "    <tr>\n",
       "      <th>1</th>\n",
       "      <td>1</td>\n",
       "      <td>Kushal</td>\n",
       "      <td>25</td>\n",
       "    </tr>\n",
       "  </tbody>\n",
       "</table>\n",
       "</div>"
      ],
      "text/plain": [
       "   id    name  age\n",
       "0   2  Vishal   22\n",
       "1   1  Kushal   25"
      ]
     },
     "execution_count": 44,
     "metadata": {},
     "output_type": "execute_result"
    }
   ],
   "source": [
    "print(df)\n",
    "\n",
    "print()\n",
    "\n",
    "df_2_rows = df.iloc[[0,1],:]\n",
    "df_2_rows"
   ]
  },
  {
   "cell_type": "markdown",
   "id": "d9cd86af",
   "metadata": {},
   "source": [
    "Alternative Solution with loc"
   ]
  },
  {
   "cell_type": "code",
   "execution_count": 46,
   "id": "c45c8e4f",
   "metadata": {},
   "outputs": [
    {
     "name": "stdout",
     "output_type": "stream",
     "text": [
      "   id    name  age\n",
      "0   2  Vishal   22\n",
      "1   1  Kushal   25\n",
      "2   1    Aman   24\n",
      "\n"
     ]
    },
    {
     "data": {
      "text/html": [
       "<div>\n",
       "<style scoped>\n",
       "    .dataframe tbody tr th:only-of-type {\n",
       "        vertical-align: middle;\n",
       "    }\n",
       "\n",
       "    .dataframe tbody tr th {\n",
       "        vertical-align: top;\n",
       "    }\n",
       "\n",
       "    .dataframe thead th {\n",
       "        text-align: right;\n",
       "    }\n",
       "</style>\n",
       "<table border=\"1\" class=\"dataframe\">\n",
       "  <thead>\n",
       "    <tr style=\"text-align: right;\">\n",
       "      <th></th>\n",
       "      <th>id</th>\n",
       "      <th>name</th>\n",
       "      <th>age</th>\n",
       "    </tr>\n",
       "  </thead>\n",
       "  <tbody>\n",
       "    <tr>\n",
       "      <th>0</th>\n",
       "      <td>2</td>\n",
       "      <td>Vishal</td>\n",
       "      <td>22</td>\n",
       "    </tr>\n",
       "    <tr>\n",
       "      <th>1</th>\n",
       "      <td>1</td>\n",
       "      <td>Kushal</td>\n",
       "      <td>25</td>\n",
       "    </tr>\n",
       "  </tbody>\n",
       "</table>\n",
       "</div>"
      ],
      "text/plain": [
       "   id    name  age\n",
       "0   2  Vishal   22\n",
       "1   1  Kushal   25"
      ]
     },
     "execution_count": 46,
     "metadata": {},
     "output_type": "execute_result"
    }
   ],
   "source": [
    "print(df)\n",
    "\n",
    "print()\n",
    "\n",
    "df_2_rows = df.loc[:1,:]\n",
    "df_2_rows"
   ]
  },
  {
   "cell_type": "markdown",
   "id": "870800a6",
   "metadata": {},
   "source": [
    "EXERCISE 14 - Conditional Selection of Rows in a DataFrame"
   ]
  },
  {
   "cell_type": "code",
   "execution_count": 52,
   "id": "621af95c",
   "metadata": {},
   "outputs": [
    {
     "name": "stdout",
     "output_type": "stream",
     "text": [
      "   id    name  age\n",
      "0   2  Vishal   22\n",
      "1   1  Kushal   25\n",
      "2   1    Aman   24\n",
      "\n"
     ]
    },
    {
     "data": {
      "text/html": [
       "<div>\n",
       "<style scoped>\n",
       "    .dataframe tbody tr th:only-of-type {\n",
       "        vertical-align: middle;\n",
       "    }\n",
       "\n",
       "    .dataframe tbody tr th {\n",
       "        vertical-align: top;\n",
       "    }\n",
       "\n",
       "    .dataframe thead th {\n",
       "        text-align: right;\n",
       "    }\n",
       "</style>\n",
       "<table border=\"1\" class=\"dataframe\">\n",
       "  <thead>\n",
       "    <tr style=\"text-align: right;\">\n",
       "      <th></th>\n",
       "      <th>id</th>\n",
       "      <th>name</th>\n",
       "      <th>age</th>\n",
       "    </tr>\n",
       "  </thead>\n",
       "  <tbody>\n",
       "    <tr>\n",
       "      <th>1</th>\n",
       "      <td>1</td>\n",
       "      <td>Kushal</td>\n",
       "      <td>25</td>\n",
       "    </tr>\n",
       "    <tr>\n",
       "      <th>2</th>\n",
       "      <td>1</td>\n",
       "      <td>Aman</td>\n",
       "      <td>24</td>\n",
       "    </tr>\n",
       "  </tbody>\n",
       "</table>\n",
       "</div>"
      ],
      "text/plain": [
       "   id    name  age\n",
       "1   1  Kushal   25\n",
       "2   1    Aman   24"
      ]
     },
     "execution_count": 52,
     "metadata": {},
     "output_type": "execute_result"
    }
   ],
   "source": [
    "print(df) # original dataframe\n",
    "print()\n",
    "\n",
    "# selecting people with age greater than or equal to 24\n",
    "df_conditional_select = df.loc[df['age'] >= 24]\n",
    "df_conditional_select"
   ]
  },
  {
   "cell_type": "markdown",
   "id": "0fd0e266",
   "metadata": {},
   "source": [
    "EXERCISE 15 - Applying Aggregate Functions Given is a dataframe showing name, occupation, salary of people. Find the average salary per occupation"
   ]
  },
  {
   "cell_type": "code",
   "execution_count": 61,
   "id": "7e2aa391",
   "metadata": {},
   "outputs": [
    {
     "name": "stdout",
     "output_type": "stream",
     "text": [
      "     name  age         occ  salary\n",
      "0   Vinay   22    engineer   60000\n",
      "1  Kushal   25      doctor   70000\n",
      "2    Aman   24  accountant   50000\n",
      "3   Rahul   28      doctor   60000\n",
      "4  Ramesh   27      doctor   65000\n",
      "\n"
     ]
    },
    {
     "data": {
      "text/plain": [
       "occ\n",
       "accountant    50000.0\n",
       "doctor        65000.0\n",
       "engineer      60000.0\n",
       "Name: salary, dtype: float64"
      ]
     },
     "execution_count": 61,
     "metadata": {},
     "output_type": "execute_result"
    }
   ],
   "source": [
    "print(dfz)\n",
    "\n",
    "print()\n",
    "\n",
    "df_agg = dfz.groupby('occ')['salary'].mean()\n",
    "df_agg"
   ]
  },
  {
   "cell_type": "markdown",
   "id": "095bd4be",
   "metadata": {},
   "source": [
    "EXERCISE 16 - Filling NaN Values in a DataFrame Given a dataframe with NaN Values, fill the NaN values with 0"
   ]
  },
  {
   "cell_type": "code",
   "execution_count": 65,
   "id": "1829736d",
   "metadata": {},
   "outputs": [
    {
     "data": {
      "text/html": [
       "<div>\n",
       "<style scoped>\n",
       "    .dataframe tbody tr th:only-of-type {\n",
       "        vertical-align: middle;\n",
       "    }\n",
       "\n",
       "    .dataframe tbody tr th {\n",
       "        vertical-align: top;\n",
       "    }\n",
       "\n",
       "    .dataframe thead th {\n",
       "        text-align: right;\n",
       "    }\n",
       "</style>\n",
       "<table border=\"1\" class=\"dataframe\">\n",
       "  <thead>\n",
       "    <tr style=\"text-align: right;\">\n",
       "      <th></th>\n",
       "      <th>name</th>\n",
       "      <th>age</th>\n",
       "      <th>occ</th>\n",
       "      <th>salary</th>\n",
       "      <th>price</th>\n",
       "    </tr>\n",
       "  </thead>\n",
       "  <tbody>\n",
       "    <tr>\n",
       "      <th>0</th>\n",
       "      <td>Vinay</td>\n",
       "      <td>22</td>\n",
       "      <td>engineer</td>\n",
       "      <td>60000</td>\n",
       "      <td>0.0</td>\n",
       "    </tr>\n",
       "    <tr>\n",
       "      <th>1</th>\n",
       "      <td>Kushal</td>\n",
       "      <td>25</td>\n",
       "      <td>doctor</td>\n",
       "      <td>70000</td>\n",
       "      <td>1000.0</td>\n",
       "    </tr>\n",
       "    <tr>\n",
       "      <th>2</th>\n",
       "      <td>Aman</td>\n",
       "      <td>24</td>\n",
       "      <td>accountant</td>\n",
       "      <td>50000</td>\n",
       "      <td>8000.0</td>\n",
       "    </tr>\n",
       "    <tr>\n",
       "      <th>3</th>\n",
       "      <td>Rahul</td>\n",
       "      <td>28</td>\n",
       "      <td>doctor</td>\n",
       "      <td>60000</td>\n",
       "      <td>0.0</td>\n",
       "    </tr>\n",
       "    <tr>\n",
       "      <th>4</th>\n",
       "      <td>Ramesh</td>\n",
       "      <td>27</td>\n",
       "      <td>doctor</td>\n",
       "      <td>65000</td>\n",
       "      <td>0.0</td>\n",
       "    </tr>\n",
       "  </tbody>\n",
       "</table>\n",
       "</div>"
      ],
      "text/plain": [
       "     name  age         occ  salary   price\n",
       "0   Vinay   22    engineer   60000     0.0\n",
       "1  Kushal   25      doctor   70000  1000.0\n",
       "2    Aman   24  accountant   50000  8000.0\n",
       "3   Rahul   28      doctor   60000     0.0\n",
       "4  Ramesh   27      doctor   65000     0.0"
      ]
     },
     "execution_count": 65,
     "metadata": {},
     "output_type": "execute_result"
    }
   ],
   "source": [
    "df_nan = dfz.assign(price=[float('nan'),1000,8000,float('nan'),float('nan')])\n",
    "df_nan\n",
    "\n",
    "df_fillna = df_nan.fillna(0)\n",
    "df_fillna"
   ]
  },
  {
   "cell_type": "markdown",
   "id": "e52641be",
   "metadata": {},
   "source": [
    "EXERCISE 17 - Applying Functions (UDFs) on DataFrame\n",
    "\n",
    "Given is a dataframe showing Company Names (cname) and corresponding Profits (profit). Convert the values of Profit column such that values in it greater than 0 are set to True and the rest are set to False."
   ]
  },
  {
   "cell_type": "code",
   "execution_count": 69,
   "id": "5afd3f1d",
   "metadata": {},
   "outputs": [
    {
     "data": {
      "text/html": [
       "<div>\n",
       "<style scoped>\n",
       "    .dataframe tbody tr th:only-of-type {\n",
       "        vertical-align: middle;\n",
       "    }\n",
       "\n",
       "    .dataframe tbody tr th {\n",
       "        vertical-align: top;\n",
       "    }\n",
       "\n",
       "    .dataframe thead th {\n",
       "        text-align: right;\n",
       "    }\n",
       "</style>\n",
       "<table border=\"1\" class=\"dataframe\">\n",
       "  <thead>\n",
       "    <tr style=\"text-align: right;\">\n",
       "      <th></th>\n",
       "      <th>c_name</th>\n",
       "      <th>profit</th>\n",
       "      <th>c_profit</th>\n",
       "    </tr>\n",
       "  </thead>\n",
       "  <tbody>\n",
       "    <tr>\n",
       "      <th>0</th>\n",
       "      <td>Shyam &amp; Co.</td>\n",
       "      <td>-10000</td>\n",
       "      <td>False</td>\n",
       "    </tr>\n",
       "    <tr>\n",
       "      <th>1</th>\n",
       "      <td>Ramlal &amp; Bros.</td>\n",
       "      <td>10000</td>\n",
       "      <td>True</td>\n",
       "    </tr>\n",
       "    <tr>\n",
       "      <th>2</th>\n",
       "      <td>Sharma Enterprises</td>\n",
       "      <td>-5000</td>\n",
       "      <td>False</td>\n",
       "    </tr>\n",
       "    <tr>\n",
       "      <th>3</th>\n",
       "      <td>Verma Furnitures</td>\n",
       "      <td>15000</td>\n",
       "      <td>True</td>\n",
       "    </tr>\n",
       "    <tr>\n",
       "      <th>4</th>\n",
       "      <td>Rahul Stores</td>\n",
       "      <td>20000</td>\n",
       "      <td>True</td>\n",
       "    </tr>\n",
       "  </tbody>\n",
       "</table>\n",
       "</div>"
      ],
      "text/plain": [
       "               c_name  profit  c_profit\n",
       "0         Shyam & Co.  -10000     False\n",
       "1      Ramlal & Bros.   10000      True\n",
       "2  Sharma Enterprises   -5000     False\n",
       "3    Verma Furnitures   15000      True\n",
       "4        Rahul Stores   20000      True"
      ]
     },
     "execution_count": 69,
     "metadata": {},
     "output_type": "execute_result"
    }
   ],
   "source": [
    "list_c = [['Shyam & Co.',-10000],['Ramlal & Bros.',10000],\n",
    "           ['Sharma Enterprises',-5000],['Verma Furnitures',15000],\n",
    "           ['Rahul Stores',20000]]\n",
    "\n",
    "company_data = pd.DataFrame(list_c,columns=['c_name','profit'])\n",
    "company_data['c_profit'] = company_data['profit'].apply(lambda x: x > 0)\n",
    "company_data"
   ]
  },
  {
   "cell_type": "markdown",
   "id": "05d5c7fe",
   "metadata": {},
   "source": [
    "EXERCISE 18 - Joining 2 DataFrames by a Common Column (key)\n",
    "\n",
    "Given are 2 dataframes, with one dataframe containing Employee ID (eid), Employee Name (ename) and Stipend (stipend) and the other dataframe containing Employee ID (eid) and designation of the employee (designation). Output the Dataframe containing Employee ID (eid), Employee Name (ename), Stipend (stipend) and Position (position)."
   ]
  },
  {
   "cell_type": "code",
   "execution_count": 74,
   "id": "85520a66",
   "metadata": {},
   "outputs": [
    {
     "name": "stdout",
     "output_type": "stream",
     "text": [
      "   eid   ename  stipend_x stipend_y         position\n",
      "0    1     Sid      10000       Sid         employee\n",
      "1    2  Ramesh      10000    Ramesh         employee\n",
      "2    3     Ron       5000       Ron           intern\n",
      "3    4   Harry      15000     Harry  senior_employee\n"
     ]
    },
    {
     "data": {
      "text/html": [
       "<div>\n",
       "<style scoped>\n",
       "    .dataframe tbody tr th:only-of-type {\n",
       "        vertical-align: middle;\n",
       "    }\n",
       "\n",
       "    .dataframe tbody tr th {\n",
       "        vertical-align: top;\n",
       "    }\n",
       "\n",
       "    .dataframe thead th {\n",
       "        text-align: right;\n",
       "    }\n",
       "</style>\n",
       "<table border=\"1\" class=\"dataframe\">\n",
       "  <thead>\n",
       "    <tr style=\"text-align: right;\">\n",
       "      <th></th>\n",
       "      <th>eid</th>\n",
       "      <th>ename</th>\n",
       "      <th>stipend_x</th>\n",
       "      <th>stipend_y</th>\n",
       "      <th>position</th>\n",
       "    </tr>\n",
       "  </thead>\n",
       "  <tbody>\n",
       "    <tr>\n",
       "      <th>0</th>\n",
       "      <td>1</td>\n",
       "      <td>Sid</td>\n",
       "      <td>10000</td>\n",
       "      <td>Sid</td>\n",
       "      <td>employee</td>\n",
       "    </tr>\n",
       "    <tr>\n",
       "      <th>1</th>\n",
       "      <td>2</td>\n",
       "      <td>Ramesh</td>\n",
       "      <td>10000</td>\n",
       "      <td>Ramesh</td>\n",
       "      <td>employee</td>\n",
       "    </tr>\n",
       "    <tr>\n",
       "      <th>2</th>\n",
       "      <td>3</td>\n",
       "      <td>Ron</td>\n",
       "      <td>5000</td>\n",
       "      <td>Ron</td>\n",
       "      <td>intern</td>\n",
       "    </tr>\n",
       "    <tr>\n",
       "      <th>3</th>\n",
       "      <td>4</td>\n",
       "      <td>Harry</td>\n",
       "      <td>15000</td>\n",
       "      <td>Harry</td>\n",
       "      <td>senior_employee</td>\n",
       "    </tr>\n",
       "  </tbody>\n",
       "</table>\n",
       "</div>"
      ],
      "text/plain": [
       "   eid   ename  stipend_x stipend_y         position\n",
       "0    1     Sid      10000       Sid         employee\n",
       "1    2  Ramesh      10000    Ramesh         employee\n",
       "2    3     Ron       5000       Ron           intern\n",
       "3    4   Harry      15000     Harry  senior_employee"
      ]
     },
     "execution_count": 74,
     "metadata": {},
     "output_type": "execute_result"
    }
   ],
   "source": [
    "emp_dict = {'eid':[1,2,3,4],\n",
    "            'ename':['Sid','Ramesh','Ron','Harry'],\n",
    "            'stipend':[10000,10000,5000,15000]}\n",
    "\n",
    "emp_list = [[1,'Sid','employee'],[2,'Ramesh','employee'],\n",
    "           [3,'Ron','intern'],[4,'Harry','senior_employee']]\n",
    "\n",
    "emp_1 = pd.DataFrame(emp_dict)\n",
    "emp_2 = pd.DataFrame(emp_list, columns=['eid','stipend','position'])\n",
    "\n",
    "total_x = emp_1.merge(emp_2,how='inner',on='eid')\n",
    "\n",
    "print(total_x)\n",
    "\n",
    "total_y = pd.merge(emp_1,emp_2,how='inner',on='eid')\n",
    "total_y"
   ]
  },
  {
   "cell_type": "code",
   "execution_count": null,
   "id": "550163aa",
   "metadata": {},
   "outputs": [],
   "source": []
  }
 ],
 "metadata": {
  "kernelspec": {
   "display_name": "Python 3 (ipykernel)",
   "language": "python",
   "name": "python3"
  },
  "language_info": {
   "codemirror_mode": {
    "name": "ipython",
    "version": 3
   },
   "file_extension": ".py",
   "mimetype": "text/x-python",
   "name": "python",
   "nbconvert_exporter": "python",
   "pygments_lexer": "ipython3",
   "version": "3.9.12"
  }
 },
 "nbformat": 4,
 "nbformat_minor": 5
}
